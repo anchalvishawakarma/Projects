{
 "cells": [
  {
   "cell_type": "markdown",
   "metadata": {
    "papermill": {
     "duration": 0.077218,
     "end_time": "2022-11-14T14:47:15.983932",
     "exception": false,
     "start_time": "2022-11-14T14:47:15.906714",
     "status": "completed"
    },
    "tags": []
   },
   "source": [
    "# EDA - Indian Restaurants \n",
    "\n"
   ]
  },
  {
   "cell_type": "markdown",
   "metadata": {
    "papermill": {
     "duration": 0.074877,
     "end_time": "2022-11-14T14:47:16.285216",
     "exception": false,
     "start_time": "2022-11-14T14:47:16.210339",
     "status": "completed"
    },
    "tags": []
   },
   "source": [
    "## Importing necessary libraries"
   ]
  },
  {
   "cell_type": "code",
   "execution_count": 1,
   "metadata": {
    "execution": {
     "iopub.execute_input": "2023-01-17T09:31:08.283746Z",
     "iopub.status.busy": "2023-01-17T09:31:08.28313Z",
     "iopub.status.idle": "2023-01-17T09:31:08.291038Z",
     "shell.execute_reply": "2023-01-17T09:31:08.289639Z",
     "shell.execute_reply.started": "2023-01-17T09:31:08.283653Z"
    },
    "papermill": {
     "duration": 0.991956,
     "end_time": "2022-11-14T14:47:17.352801",
     "exception": false,
     "start_time": "2022-11-14T14:47:16.360845",
     "status": "completed"
    },
    "tags": []
   },
   "outputs": [],
   "source": [
    "import numpy as np\n",
    "import pandas as pd                                                         \n",
    "import matplotlib.pyplot as plt\n",
    "import matplotlib.cm as cm\n",
    "import seaborn as sns\n",
    "\n"
   ]
  },
  {
   "cell_type": "markdown",
   "metadata": {
    "papermill": {
     "duration": 0.075091,
     "end_time": "2022-11-14T14:47:17.504383",
     "exception": false,
     "start_time": "2022-11-14T14:47:17.429292",
     "status": "completed"
    },
    "tags": []
   },
   "source": [
    "## Preprocessing\n",
    "### Exploring data"
   ]
  },
  {
   "cell_type": "code",
   "execution_count": 2,
   "metadata": {
    "execution": {
     "iopub.execute_input": "2023-01-17T09:31:08.293747Z",
     "iopub.status.busy": "2023-01-17T09:31:08.293127Z",
     "iopub.status.idle": "2023-01-17T09:31:10.406342Z",
     "shell.execute_reply": "2023-01-17T09:31:10.405142Z",
     "shell.execute_reply.started": "2023-01-17T09:31:08.293713Z"
    },
    "papermill": {
     "duration": 3.397886,
     "end_time": "2022-11-14T14:47:21.128539",
     "exception": false,
     "start_time": "2022-11-14T14:47:17.730653",
     "status": "completed"
    },
    "tags": []
   },
   "outputs": [],
   "source": [
    "data = pd.read_csv(\"C://Users//Anchal//OneDrive//Desktop//Anchal//Itvedant//Com_Project//zomato_restaurants_in_India.csv\")"
   ]
  },
  {
   "cell_type": "code",
   "execution_count": 3,
   "metadata": {
    "execution": {
     "iopub.execute_input": "2023-01-17T09:31:10.407956Z",
     "iopub.status.busy": "2023-01-17T09:31:10.407598Z",
     "iopub.status.idle": "2023-01-17T09:31:10.437655Z",
     "shell.execute_reply": "2023-01-17T09:31:10.436782Z",
     "shell.execute_reply.started": "2023-01-17T09:31:10.407925Z"
    },
    "papermill": {
     "duration": 0.123177,
     "end_time": "2022-11-14T14:47:21.328634",
     "exception": false,
     "start_time": "2022-11-14T14:47:21.205457",
     "status": "completed"
    },
    "tags": []
   },
   "outputs": [
    {
     "data": {
      "text/html": [
       "<div>\n",
       "<style scoped>\n",
       "    .dataframe tbody tr th:only-of-type {\n",
       "        vertical-align: middle;\n",
       "    }\n",
       "\n",
       "    .dataframe tbody tr th {\n",
       "        vertical-align: top;\n",
       "    }\n",
       "\n",
       "    .dataframe thead th {\n",
       "        text-align: right;\n",
       "    }\n",
       "</style>\n",
       "<table border=\"1\" class=\"dataframe\">\n",
       "  <thead>\n",
       "    <tr style=\"text-align: right;\">\n",
       "      <th></th>\n",
       "      <th>res_id</th>\n",
       "      <th>name</th>\n",
       "      <th>establishment</th>\n",
       "      <th>url</th>\n",
       "      <th>address</th>\n",
       "      <th>city</th>\n",
       "      <th>city_id</th>\n",
       "      <th>locality</th>\n",
       "      <th>latitude</th>\n",
       "      <th>longitude</th>\n",
       "      <th>...</th>\n",
       "      <th>price_range</th>\n",
       "      <th>currency</th>\n",
       "      <th>highlights</th>\n",
       "      <th>aggregate_rating</th>\n",
       "      <th>rating_text</th>\n",
       "      <th>votes</th>\n",
       "      <th>photo_count</th>\n",
       "      <th>opentable_support</th>\n",
       "      <th>delivery</th>\n",
       "      <th>takeaway</th>\n",
       "    </tr>\n",
       "  </thead>\n",
       "  <tbody>\n",
       "    <tr>\n",
       "      <th>0</th>\n",
       "      <td>3400299</td>\n",
       "      <td>Bikanervala</td>\n",
       "      <td>['Quick Bites']</td>\n",
       "      <td>https://www.zomato.com/agra/bikanervala-khanda...</td>\n",
       "      <td>Kalyani Point, Near Tulsi Cinema, Bypass Road,...</td>\n",
       "      <td>Agra</td>\n",
       "      <td>34</td>\n",
       "      <td>Khandari</td>\n",
       "      <td>27.211450</td>\n",
       "      <td>78.002381</td>\n",
       "      <td>...</td>\n",
       "      <td>2</td>\n",
       "      <td>Rs.</td>\n",
       "      <td>['Lunch', 'Takeaway Available', 'Credit Card',...</td>\n",
       "      <td>4.4</td>\n",
       "      <td>Very Good</td>\n",
       "      <td>814</td>\n",
       "      <td>154</td>\n",
       "      <td>0.0</td>\n",
       "      <td>-1</td>\n",
       "      <td>-1</td>\n",
       "    </tr>\n",
       "    <tr>\n",
       "      <th>1</th>\n",
       "      <td>3400005</td>\n",
       "      <td>Mama Chicken Mama Franky House</td>\n",
       "      <td>['Quick Bites']</td>\n",
       "      <td>https://www.zomato.com/agra/mama-chicken-mama-...</td>\n",
       "      <td>Main Market, Sadar Bazaar, Agra Cantt, Agra</td>\n",
       "      <td>Agra</td>\n",
       "      <td>34</td>\n",
       "      <td>Agra Cantt</td>\n",
       "      <td>27.160569</td>\n",
       "      <td>78.011583</td>\n",
       "      <td>...</td>\n",
       "      <td>2</td>\n",
       "      <td>Rs.</td>\n",
       "      <td>['Delivery', 'No Alcohol Available', 'Dinner',...</td>\n",
       "      <td>4.4</td>\n",
       "      <td>Very Good</td>\n",
       "      <td>1203</td>\n",
       "      <td>161</td>\n",
       "      <td>0.0</td>\n",
       "      <td>-1</td>\n",
       "      <td>-1</td>\n",
       "    </tr>\n",
       "    <tr>\n",
       "      <th>2</th>\n",
       "      <td>3401013</td>\n",
       "      <td>Bhagat Halwai</td>\n",
       "      <td>['Quick Bites']</td>\n",
       "      <td>https://www.zomato.com/agra/bhagat-halwai-2-sh...</td>\n",
       "      <td>62/1, Near Easy Day, West Shivaji Nagar, Goalp...</td>\n",
       "      <td>Agra</td>\n",
       "      <td>34</td>\n",
       "      <td>Shahganj</td>\n",
       "      <td>27.182938</td>\n",
       "      <td>77.979684</td>\n",
       "      <td>...</td>\n",
       "      <td>1</td>\n",
       "      <td>Rs.</td>\n",
       "      <td>['No Alcohol Available', 'Dinner', 'Takeaway A...</td>\n",
       "      <td>4.2</td>\n",
       "      <td>Very Good</td>\n",
       "      <td>801</td>\n",
       "      <td>107</td>\n",
       "      <td>0.0</td>\n",
       "      <td>1</td>\n",
       "      <td>-1</td>\n",
       "    </tr>\n",
       "    <tr>\n",
       "      <th>3</th>\n",
       "      <td>3400290</td>\n",
       "      <td>Bhagat Halwai</td>\n",
       "      <td>['Quick Bites']</td>\n",
       "      <td>https://www.zomato.com/agra/bhagat-halwai-civi...</td>\n",
       "      <td>Near Anjana Cinema, Nehru Nagar, Civil Lines, ...</td>\n",
       "      <td>Agra</td>\n",
       "      <td>34</td>\n",
       "      <td>Civil Lines</td>\n",
       "      <td>27.205668</td>\n",
       "      <td>78.004799</td>\n",
       "      <td>...</td>\n",
       "      <td>1</td>\n",
       "      <td>Rs.</td>\n",
       "      <td>['Takeaway Available', 'Credit Card', 'Lunch',...</td>\n",
       "      <td>4.3</td>\n",
       "      <td>Very Good</td>\n",
       "      <td>693</td>\n",
       "      <td>157</td>\n",
       "      <td>0.0</td>\n",
       "      <td>1</td>\n",
       "      <td>-1</td>\n",
       "    </tr>\n",
       "    <tr>\n",
       "      <th>4</th>\n",
       "      <td>3401744</td>\n",
       "      <td>The Salt Cafe Kitchen &amp; Bar</td>\n",
       "      <td>['Casual Dining']</td>\n",
       "      <td>https://www.zomato.com/agra/the-salt-cafe-kitc...</td>\n",
       "      <td>1C,3rd Floor, Fatehabad Road, Tajganj, Agra</td>\n",
       "      <td>Agra</td>\n",
       "      <td>34</td>\n",
       "      <td>Tajganj</td>\n",
       "      <td>27.157709</td>\n",
       "      <td>78.052421</td>\n",
       "      <td>...</td>\n",
       "      <td>3</td>\n",
       "      <td>Rs.</td>\n",
       "      <td>['Lunch', 'Serves Alcohol', 'Cash', 'Credit Ca...</td>\n",
       "      <td>4.9</td>\n",
       "      <td>Excellent</td>\n",
       "      <td>470</td>\n",
       "      <td>291</td>\n",
       "      <td>0.0</td>\n",
       "      <td>1</td>\n",
       "      <td>-1</td>\n",
       "    </tr>\n",
       "  </tbody>\n",
       "</table>\n",
       "<p>5 rows × 26 columns</p>\n",
       "</div>"
      ],
      "text/plain": [
       "    res_id                            name      establishment  \\\n",
       "0  3400299                     Bikanervala    ['Quick Bites']   \n",
       "1  3400005  Mama Chicken Mama Franky House    ['Quick Bites']   \n",
       "2  3401013                   Bhagat Halwai    ['Quick Bites']   \n",
       "3  3400290                   Bhagat Halwai    ['Quick Bites']   \n",
       "4  3401744     The Salt Cafe Kitchen & Bar  ['Casual Dining']   \n",
       "\n",
       "                                                 url  \\\n",
       "0  https://www.zomato.com/agra/bikanervala-khanda...   \n",
       "1  https://www.zomato.com/agra/mama-chicken-mama-...   \n",
       "2  https://www.zomato.com/agra/bhagat-halwai-2-sh...   \n",
       "3  https://www.zomato.com/agra/bhagat-halwai-civi...   \n",
       "4  https://www.zomato.com/agra/the-salt-cafe-kitc...   \n",
       "\n",
       "                                             address  city  city_id  \\\n",
       "0  Kalyani Point, Near Tulsi Cinema, Bypass Road,...  Agra       34   \n",
       "1        Main Market, Sadar Bazaar, Agra Cantt, Agra  Agra       34   \n",
       "2  62/1, Near Easy Day, West Shivaji Nagar, Goalp...  Agra       34   \n",
       "3  Near Anjana Cinema, Nehru Nagar, Civil Lines, ...  Agra       34   \n",
       "4        1C,3rd Floor, Fatehabad Road, Tajganj, Agra  Agra       34   \n",
       "\n",
       "      locality   latitude  longitude  ... price_range  currency  \\\n",
       "0     Khandari  27.211450  78.002381  ...           2       Rs.   \n",
       "1   Agra Cantt  27.160569  78.011583  ...           2       Rs.   \n",
       "2     Shahganj  27.182938  77.979684  ...           1       Rs.   \n",
       "3  Civil Lines  27.205668  78.004799  ...           1       Rs.   \n",
       "4      Tajganj  27.157709  78.052421  ...           3       Rs.   \n",
       "\n",
       "                                          highlights aggregate_rating  \\\n",
       "0  ['Lunch', 'Takeaway Available', 'Credit Card',...              4.4   \n",
       "1  ['Delivery', 'No Alcohol Available', 'Dinner',...              4.4   \n",
       "2  ['No Alcohol Available', 'Dinner', 'Takeaway A...              4.2   \n",
       "3  ['Takeaway Available', 'Credit Card', 'Lunch',...              4.3   \n",
       "4  ['Lunch', 'Serves Alcohol', 'Cash', 'Credit Ca...              4.9   \n",
       "\n",
       "  rating_text  votes  photo_count opentable_support delivery  takeaway  \n",
       "0   Very Good    814          154               0.0       -1        -1  \n",
       "1   Very Good   1203          161               0.0       -1        -1  \n",
       "2   Very Good    801          107               0.0        1        -1  \n",
       "3   Very Good    693          157               0.0        1        -1  \n",
       "4   Excellent    470          291               0.0        1        -1  \n",
       "\n",
       "[5 rows x 26 columns]"
      ]
     },
     "execution_count": 3,
     "metadata": {},
     "output_type": "execute_result"
    }
   ],
   "source": [
    "data.head()"
   ]
  },
  {
   "cell_type": "code",
   "execution_count": 4,
   "metadata": {
    "execution": {
     "iopub.execute_input": "2023-01-17T09:31:10.439364Z",
     "iopub.status.busy": "2023-01-17T09:31:10.438884Z",
     "iopub.status.idle": "2023-01-17T09:31:10.471109Z",
     "shell.execute_reply": "2023-01-17T09:31:10.47006Z",
     "shell.execute_reply.started": "2023-01-17T09:31:10.439333Z"
    },
    "papermill": {
     "duration": 0.119353,
     "end_time": "2022-11-14T14:47:21.52622",
     "exception": false,
     "start_time": "2022-11-14T14:47:21.406867",
     "status": "completed"
    },
    "tags": []
   },
   "outputs": [
    {
     "data": {
      "text/html": [
       "<div>\n",
       "<style scoped>\n",
       "    .dataframe tbody tr th:only-of-type {\n",
       "        vertical-align: middle;\n",
       "    }\n",
       "\n",
       "    .dataframe tbody tr th {\n",
       "        vertical-align: top;\n",
       "    }\n",
       "\n",
       "    .dataframe thead th {\n",
       "        text-align: right;\n",
       "    }\n",
       "</style>\n",
       "<table border=\"1\" class=\"dataframe\">\n",
       "  <thead>\n",
       "    <tr style=\"text-align: right;\">\n",
       "      <th></th>\n",
       "      <th>res_id</th>\n",
       "      <th>name</th>\n",
       "      <th>establishment</th>\n",
       "      <th>url</th>\n",
       "      <th>address</th>\n",
       "      <th>city</th>\n",
       "      <th>city_id</th>\n",
       "      <th>locality</th>\n",
       "      <th>latitude</th>\n",
       "      <th>longitude</th>\n",
       "      <th>...</th>\n",
       "      <th>price_range</th>\n",
       "      <th>currency</th>\n",
       "      <th>highlights</th>\n",
       "      <th>aggregate_rating</th>\n",
       "      <th>rating_text</th>\n",
       "      <th>votes</th>\n",
       "      <th>photo_count</th>\n",
       "      <th>opentable_support</th>\n",
       "      <th>delivery</th>\n",
       "      <th>takeaway</th>\n",
       "    </tr>\n",
       "  </thead>\n",
       "  <tbody>\n",
       "    <tr>\n",
       "      <th>211939</th>\n",
       "      <td>3202251</td>\n",
       "      <td>Kali Mirch Cafe And Restaurant</td>\n",
       "      <td>['Casual Dining']</td>\n",
       "      <td>https://www.zomato.com/vadodara/kali-mirch-caf...</td>\n",
       "      <td>Manu Smriti Complex, Near Navrachna School, GI...</td>\n",
       "      <td>Vadodara</td>\n",
       "      <td>32</td>\n",
       "      <td>Fatehgunj</td>\n",
       "      <td>22.336931</td>\n",
       "      <td>73.192356</td>\n",
       "      <td>...</td>\n",
       "      <td>2</td>\n",
       "      <td>Rs.</td>\n",
       "      <td>['Dinner', 'Cash', 'Lunch', 'Delivery', 'Indoo...</td>\n",
       "      <td>4.1</td>\n",
       "      <td>Very Good</td>\n",
       "      <td>243</td>\n",
       "      <td>40</td>\n",
       "      <td>0.0</td>\n",
       "      <td>-1</td>\n",
       "      <td>-1</td>\n",
       "    </tr>\n",
       "    <tr>\n",
       "      <th>211940</th>\n",
       "      <td>3200996</td>\n",
       "      <td>Raju Omlet</td>\n",
       "      <td>['Quick Bites']</td>\n",
       "      <td>https://www.zomato.com/vadodara/raju-omlet-kar...</td>\n",
       "      <td>Mahalaxmi Apartment, Opposite B O B, Karoli Ba...</td>\n",
       "      <td>Vadodara</td>\n",
       "      <td>32</td>\n",
       "      <td>Karelibaug</td>\n",
       "      <td>22.322455</td>\n",
       "      <td>73.197203</td>\n",
       "      <td>...</td>\n",
       "      <td>1</td>\n",
       "      <td>Rs.</td>\n",
       "      <td>['Dinner', 'Cash', 'Takeaway Available', 'Debi...</td>\n",
       "      <td>4.1</td>\n",
       "      <td>Very Good</td>\n",
       "      <td>187</td>\n",
       "      <td>40</td>\n",
       "      <td>0.0</td>\n",
       "      <td>1</td>\n",
       "      <td>-1</td>\n",
       "    </tr>\n",
       "    <tr>\n",
       "      <th>211941</th>\n",
       "      <td>18984164</td>\n",
       "      <td>The Grand Thakar</td>\n",
       "      <td>['Casual Dining']</td>\n",
       "      <td>https://www.zomato.com/vadodara/the-grand-thak...</td>\n",
       "      <td>3rd Floor, Shreem Shalini Mall, Opposite Conqu...</td>\n",
       "      <td>Vadodara</td>\n",
       "      <td>32</td>\n",
       "      <td>Alkapuri</td>\n",
       "      <td>22.310563</td>\n",
       "      <td>73.171164</td>\n",
       "      <td>...</td>\n",
       "      <td>2</td>\n",
       "      <td>Rs.</td>\n",
       "      <td>['Dinner', 'Cash', 'Debit Card', 'Lunch', 'Tak...</td>\n",
       "      <td>4.0</td>\n",
       "      <td>Very Good</td>\n",
       "      <td>111</td>\n",
       "      <td>38</td>\n",
       "      <td>0.0</td>\n",
       "      <td>-1</td>\n",
       "      <td>-1</td>\n",
       "    </tr>\n",
       "    <tr>\n",
       "      <th>211942</th>\n",
       "      <td>3201138</td>\n",
       "      <td>Subway</td>\n",
       "      <td>['Quick Bites']</td>\n",
       "      <td>https://www.zomato.com/vadodara/subway-1-akota...</td>\n",
       "      <td>G-2, Vedant Platina, Near Cosmos, Akota, Vadodara</td>\n",
       "      <td>Vadodara</td>\n",
       "      <td>32</td>\n",
       "      <td>Akota</td>\n",
       "      <td>22.270027</td>\n",
       "      <td>73.143068</td>\n",
       "      <td>...</td>\n",
       "      <td>2</td>\n",
       "      <td>Rs.</td>\n",
       "      <td>['Dinner', 'Delivery', 'Credit Card', 'Lunch',...</td>\n",
       "      <td>3.7</td>\n",
       "      <td>Good</td>\n",
       "      <td>128</td>\n",
       "      <td>34</td>\n",
       "      <td>0.0</td>\n",
       "      <td>1</td>\n",
       "      <td>-1</td>\n",
       "    </tr>\n",
       "    <tr>\n",
       "      <th>211943</th>\n",
       "      <td>18879846</td>\n",
       "      <td>Freshco's - The Health Cafe</td>\n",
       "      <td>['Café']</td>\n",
       "      <td>https://www.zomato.com/vadodara/freshcos-the-h...</td>\n",
       "      <td>Shop 7, Ground Floor, Opposite Natubhai Circle...</td>\n",
       "      <td>Vadodara</td>\n",
       "      <td>32</td>\n",
       "      <td>Vadiwadi</td>\n",
       "      <td>22.309935</td>\n",
       "      <td>73.158768</td>\n",
       "      <td>...</td>\n",
       "      <td>2</td>\n",
       "      <td>Rs.</td>\n",
       "      <td>['Dinner', 'Cash', 'Takeaway Available', 'Debi...</td>\n",
       "      <td>4.0</td>\n",
       "      <td>Very Good</td>\n",
       "      <td>93</td>\n",
       "      <td>53</td>\n",
       "      <td>0.0</td>\n",
       "      <td>1</td>\n",
       "      <td>-1</td>\n",
       "    </tr>\n",
       "  </tbody>\n",
       "</table>\n",
       "<p>5 rows × 26 columns</p>\n",
       "</div>"
      ],
      "text/plain": [
       "          res_id                            name      establishment  \\\n",
       "211939   3202251  Kali Mirch Cafe And Restaurant  ['Casual Dining']   \n",
       "211940   3200996                      Raju Omlet    ['Quick Bites']   \n",
       "211941  18984164                The Grand Thakar  ['Casual Dining']   \n",
       "211942   3201138                          Subway    ['Quick Bites']   \n",
       "211943  18879846     Freshco's - The Health Cafe           ['Café']   \n",
       "\n",
       "                                                      url  \\\n",
       "211939  https://www.zomato.com/vadodara/kali-mirch-caf...   \n",
       "211940  https://www.zomato.com/vadodara/raju-omlet-kar...   \n",
       "211941  https://www.zomato.com/vadodara/the-grand-thak...   \n",
       "211942  https://www.zomato.com/vadodara/subway-1-akota...   \n",
       "211943  https://www.zomato.com/vadodara/freshcos-the-h...   \n",
       "\n",
       "                                                  address      city  city_id  \\\n",
       "211939  Manu Smriti Complex, Near Navrachna School, GI...  Vadodara       32   \n",
       "211940  Mahalaxmi Apartment, Opposite B O B, Karoli Ba...  Vadodara       32   \n",
       "211941  3rd Floor, Shreem Shalini Mall, Opposite Conqu...  Vadodara       32   \n",
       "211942  G-2, Vedant Platina, Near Cosmos, Akota, Vadodara  Vadodara       32   \n",
       "211943  Shop 7, Ground Floor, Opposite Natubhai Circle...  Vadodara       32   \n",
       "\n",
       "          locality   latitude  longitude  ... price_range  currency  \\\n",
       "211939   Fatehgunj  22.336931  73.192356  ...           2       Rs.   \n",
       "211940  Karelibaug  22.322455  73.197203  ...           1       Rs.   \n",
       "211941    Alkapuri  22.310563  73.171164  ...           2       Rs.   \n",
       "211942       Akota  22.270027  73.143068  ...           2       Rs.   \n",
       "211943    Vadiwadi  22.309935  73.158768  ...           2       Rs.   \n",
       "\n",
       "                                               highlights aggregate_rating  \\\n",
       "211939  ['Dinner', 'Cash', 'Lunch', 'Delivery', 'Indoo...              4.1   \n",
       "211940  ['Dinner', 'Cash', 'Takeaway Available', 'Debi...              4.1   \n",
       "211941  ['Dinner', 'Cash', 'Debit Card', 'Lunch', 'Tak...              4.0   \n",
       "211942  ['Dinner', 'Delivery', 'Credit Card', 'Lunch',...              3.7   \n",
       "211943  ['Dinner', 'Cash', 'Takeaway Available', 'Debi...              4.0   \n",
       "\n",
       "       rating_text  votes  photo_count opentable_support delivery  takeaway  \n",
       "211939   Very Good    243           40               0.0       -1        -1  \n",
       "211940   Very Good    187           40               0.0        1        -1  \n",
       "211941   Very Good    111           38               0.0       -1        -1  \n",
       "211942        Good    128           34               0.0        1        -1  \n",
       "211943   Very Good     93           53               0.0        1        -1  \n",
       "\n",
       "[5 rows x 26 columns]"
      ]
     },
     "execution_count": 4,
     "metadata": {},
     "output_type": "execute_result"
    }
   ],
   "source": [
    "data.tail()"
   ]
  },
  {
   "cell_type": "code",
   "execution_count": 5,
   "metadata": {
    "execution": {
     "iopub.execute_input": "2023-01-17T09:31:10.474699Z",
     "iopub.status.busy": "2023-01-17T09:31:10.474343Z",
     "iopub.status.idle": "2023-01-17T09:31:10.496123Z",
     "shell.execute_reply": "2023-01-17T09:31:10.494792Z",
     "shell.execute_reply.started": "2023-01-17T09:31:10.474667Z"
    },
    "papermill": {
     "duration": 0.10931,
     "end_time": "2022-11-14T14:47:21.714169",
     "exception": false,
     "start_time": "2022-11-14T14:47:21.604859",
     "status": "completed"
    },
    "tags": []
   },
   "outputs": [
    {
     "data": {
      "text/plain": [
       "99"
      ]
     },
     "execution_count": 5,
     "metadata": {},
     "output_type": "execute_result"
    }
   ],
   "source": [
    "data.city.nunique()"
   ]
  },
  {
   "cell_type": "code",
   "execution_count": 6,
   "metadata": {
    "execution": {
     "iopub.execute_input": "2023-01-17T09:31:10.4985Z",
     "iopub.status.busy": "2023-01-17T09:31:10.498015Z",
     "iopub.status.idle": "2023-01-17T09:31:10.524628Z",
     "shell.execute_reply": "2023-01-17T09:31:10.523237Z",
     "shell.execute_reply.started": "2023-01-17T09:31:10.498456Z"
    },
    "papermill": {
     "duration": 0.097133,
     "end_time": "2022-11-14T14:47:21.890541",
     "exception": false,
     "start_time": "2022-11-14T14:47:21.793408",
     "status": "completed"
    },
    "tags": []
   },
   "outputs": [
    {
     "data": {
      "text/plain": [
       "array(['Agra', 'Ahmedabad', 'Gandhinagar', 'Ajmer', 'Alappuzha',\n",
       "       'Allahabad', 'Amravati', 'Amritsar', 'Aurangabad', 'Bangalore',\n",
       "       'Bhopal', 'Bhubaneshwar', 'Chandigarh', 'Mohali', 'Panchkula',\n",
       "       'Zirakpur', 'Nayagaon', 'Chennai', 'Coimbatore', 'Cuttack',\n",
       "       'Darjeeling', 'Dehradun', 'New Delhi', 'Gurgaon', 'Noida',\n",
       "       'Faridabad', 'Ghaziabad', 'Greater Noida', 'Dharamshala',\n",
       "       'Gangtok', 'Goa', 'Gorakhpur', 'Guntur', 'Guwahati', 'Gwalior',\n",
       "       'Haridwar', 'Hyderabad', 'Secunderabad', 'Indore', 'Jabalpur',\n",
       "       'Jaipur', 'Jalandhar', 'Jammu', 'Jamnagar', 'Jamshedpur', 'Jhansi',\n",
       "       'Jodhpur', 'Junagadh', 'Kanpur', 'Kharagpur', 'Kochi', 'Kolhapur',\n",
       "       'Kolkata', 'Howrah', 'Kota', 'Lucknow', 'Ludhiana', 'Madurai',\n",
       "       'Manali', 'Mangalore', 'Manipal', 'Udupi', 'Meerut', 'Mumbai',\n",
       "       'Thane', 'Navi Mumbai', 'Mussoorie', 'Mysore', 'Nagpur',\n",
       "       'Nainital', 'Nasik', 'Nashik', 'Neemrana', 'Ooty', 'Palakkad',\n",
       "       'Patiala', 'Patna', 'Puducherry', 'Pune', 'Pushkar', 'Raipur',\n",
       "       'Rajkot', 'Ranchi', 'Rishikesh', 'Salem', 'Shimla', 'Siliguri',\n",
       "       'Srinagar', 'Surat', 'Thrissur', 'Tirupati', 'Trichy',\n",
       "       'Trivandrum', 'Udaipur', 'Varanasi', 'Vellore', 'Vijayawada',\n",
       "       'Vizag', 'Vadodara'], dtype=object)"
      ]
     },
     "execution_count": 6,
     "metadata": {},
     "output_type": "execute_result"
    }
   ],
   "source": [
    "data.city.unique()"
   ]
  },
  {
   "cell_type": "code",
   "execution_count": 7,
   "metadata": {
    "execution": {
     "iopub.execute_input": "2023-01-17T09:31:10.527171Z",
     "iopub.status.busy": "2023-01-17T09:31:10.526252Z",
     "iopub.status.idle": "2023-01-17T09:31:10.586416Z",
     "shell.execute_reply": "2023-01-17T09:31:10.585072Z",
     "shell.execute_reply.started": "2023-01-17T09:31:10.52712Z"
    },
    "papermill": {
     "duration": 0.147965,
     "end_time": "2022-11-14T14:47:22.119044",
     "exception": false,
     "start_time": "2022-11-14T14:47:21.971079",
     "status": "completed"
    },
    "tags": []
   },
   "outputs": [
    {
     "data": {
      "text/html": [
       "<div>\n",
       "<style scoped>\n",
       "    .dataframe tbody tr th:only-of-type {\n",
       "        vertical-align: middle;\n",
       "    }\n",
       "\n",
       "    .dataframe tbody tr th {\n",
       "        vertical-align: top;\n",
       "    }\n",
       "\n",
       "    .dataframe thead th {\n",
       "        text-align: right;\n",
       "    }\n",
       "</style>\n",
       "<table border=\"1\" class=\"dataframe\">\n",
       "  <thead>\n",
       "    <tr style=\"text-align: right;\">\n",
       "      <th></th>\n",
       "      <th>res_id</th>\n",
       "      <th>name</th>\n",
       "      <th>establishment</th>\n",
       "      <th>url</th>\n",
       "      <th>address</th>\n",
       "      <th>city</th>\n",
       "      <th>city_id</th>\n",
       "      <th>locality</th>\n",
       "      <th>latitude</th>\n",
       "      <th>longitude</th>\n",
       "      <th>...</th>\n",
       "      <th>price_range</th>\n",
       "      <th>currency</th>\n",
       "      <th>highlights</th>\n",
       "      <th>aggregate_rating</th>\n",
       "      <th>rating_text</th>\n",
       "      <th>votes</th>\n",
       "      <th>photo_count</th>\n",
       "      <th>opentable_support</th>\n",
       "      <th>delivery</th>\n",
       "      <th>takeaway</th>\n",
       "    </tr>\n",
       "  </thead>\n",
       "  <tbody>\n",
       "    <tr>\n",
       "      <th>134852</th>\n",
       "      <td>18562340</td>\n",
       "      <td>Drinkery 51</td>\n",
       "      <td>['Casual Dining']</td>\n",
       "      <td>https://www.zomato.com/mumbai/drinkery-51-band...</td>\n",
       "      <td>1st Floor, Vibgyor Towers, Bandra Kurla Comple...</td>\n",
       "      <td>Mumbai</td>\n",
       "      <td>3</td>\n",
       "      <td>Bandra Kurla Complex</td>\n",
       "      <td>19.067176</td>\n",
       "      <td>72.867493</td>\n",
       "      <td>...</td>\n",
       "      <td>4</td>\n",
       "      <td>Rs.</td>\n",
       "      <td>['Dinner', 'Debit Card', 'Lunch', 'Serves Alco...</td>\n",
       "      <td>4.4</td>\n",
       "      <td>Very Good</td>\n",
       "      <td>3796</td>\n",
       "      <td>1897</td>\n",
       "      <td>0.0</td>\n",
       "      <td>1</td>\n",
       "      <td>-1</td>\n",
       "    </tr>\n",
       "    <tr>\n",
       "      <th>134853</th>\n",
       "      <td>34757</td>\n",
       "      <td>Joey's Pizza</td>\n",
       "      <td>['Quick Bites']</td>\n",
       "      <td>https://www.zomato.com/mumbai/joeys-pizza-mala...</td>\n",
       "      <td>Shop 1, Plot D, Samruddhi Complex, Chincholi B...</td>\n",
       "      <td>Mumbai</td>\n",
       "      <td>3</td>\n",
       "      <td>Malad West</td>\n",
       "      <td>19.178188</td>\n",
       "      <td>72.834666</td>\n",
       "      <td>...</td>\n",
       "      <td>2</td>\n",
       "      <td>Rs.</td>\n",
       "      <td>['Lunch', 'Cash', 'Takeaway Available', 'Debit...</td>\n",
       "      <td>4.5</td>\n",
       "      <td>Excellent</td>\n",
       "      <td>7932</td>\n",
       "      <td>4960</td>\n",
       "      <td>0.0</td>\n",
       "      <td>-1</td>\n",
       "      <td>-1</td>\n",
       "    </tr>\n",
       "    <tr>\n",
       "      <th>134854</th>\n",
       "      <td>18548172</td>\n",
       "      <td>Hitchki</td>\n",
       "      <td>['Bar']</td>\n",
       "      <td>https://www.zomato.com/mumbai/hitchki-powai?ut...</td>\n",
       "      <td>5, Transocean, Hiranandani Business Park, Lake...</td>\n",
       "      <td>Mumbai</td>\n",
       "      <td>3</td>\n",
       "      <td>Powai</td>\n",
       "      <td>19.119930</td>\n",
       "      <td>72.907331</td>\n",
       "      <td>...</td>\n",
       "      <td>3</td>\n",
       "      <td>Rs.</td>\n",
       "      <td>['Lunch', 'Serves Alcohol', 'Cash', 'Credit Ca...</td>\n",
       "      <td>4.7</td>\n",
       "      <td>Excellent</td>\n",
       "      <td>3762</td>\n",
       "      <td>12979</td>\n",
       "      <td>0.0</td>\n",
       "      <td>1</td>\n",
       "      <td>-1</td>\n",
       "    </tr>\n",
       "    <tr>\n",
       "      <th>134855</th>\n",
       "      <td>18392725</td>\n",
       "      <td>Tamasha</td>\n",
       "      <td>['Lounge']</td>\n",
       "      <td>https://www.zomato.com/mumbai/tamasha-lower-pa...</td>\n",
       "      <td>Ground Floor, Victoria House, E.B Marg, Lower ...</td>\n",
       "      <td>Mumbai</td>\n",
       "      <td>3</td>\n",
       "      <td>Lower Parel</td>\n",
       "      <td>19.006060</td>\n",
       "      <td>72.827496</td>\n",
       "      <td>...</td>\n",
       "      <td>4</td>\n",
       "      <td>Rs.</td>\n",
       "      <td>['Dinner', 'Cash', 'Takeaway Available', 'Cred...</td>\n",
       "      <td>4.7</td>\n",
       "      <td>Excellent</td>\n",
       "      <td>4979</td>\n",
       "      <td>16595</td>\n",
       "      <td>0.0</td>\n",
       "      <td>-1</td>\n",
       "      <td>-1</td>\n",
       "    </tr>\n",
       "    <tr>\n",
       "      <th>134856</th>\n",
       "      <td>18962112</td>\n",
       "      <td>Bayroute</td>\n",
       "      <td>['Fine Dining']</td>\n",
       "      <td>https://www.zomato.com/mumbai/bayroute-juhu?ut...</td>\n",
       "      <td>14, Silver Beach Estate, A.B. Nair Road, Oppos...</td>\n",
       "      <td>Mumbai</td>\n",
       "      <td>3</td>\n",
       "      <td>Juhu</td>\n",
       "      <td>19.110684</td>\n",
       "      <td>72.825368</td>\n",
       "      <td>...</td>\n",
       "      <td>4</td>\n",
       "      <td>Rs.</td>\n",
       "      <td>['Dinner', 'Cash', 'Takeaway Available', 'Debi...</td>\n",
       "      <td>4.9</td>\n",
       "      <td>Excellent</td>\n",
       "      <td>706</td>\n",
       "      <td>2484</td>\n",
       "      <td>0.0</td>\n",
       "      <td>-1</td>\n",
       "      <td>-1</td>\n",
       "    </tr>\n",
       "    <tr>\n",
       "      <th>...</th>\n",
       "      <td>...</td>\n",
       "      <td>...</td>\n",
       "      <td>...</td>\n",
       "      <td>...</td>\n",
       "      <td>...</td>\n",
       "      <td>...</td>\n",
       "      <td>...</td>\n",
       "      <td>...</td>\n",
       "      <td>...</td>\n",
       "      <td>...</td>\n",
       "      <td>...</td>\n",
       "      <td>...</td>\n",
       "      <td>...</td>\n",
       "      <td>...</td>\n",
       "      <td>...</td>\n",
       "      <td>...</td>\n",
       "      <td>...</td>\n",
       "      <td>...</td>\n",
       "      <td>...</td>\n",
       "      <td>...</td>\n",
       "      <td>...</td>\n",
       "    </tr>\n",
       "    <tr>\n",
       "      <th>142348</th>\n",
       "      <td>46792</td>\n",
       "      <td>BOX8- Desi Meals</td>\n",
       "      <td>[]</td>\n",
       "      <td>https://www.zomato.com/mumbai/box8-desi-meals-...</td>\n",
       "      <td>102, Bhavani Industrial Estate, Opposite IIT B...</td>\n",
       "      <td>Mumbai</td>\n",
       "      <td>3</td>\n",
       "      <td>Powai</td>\n",
       "      <td>19.124284</td>\n",
       "      <td>72.914877</td>\n",
       "      <td>...</td>\n",
       "      <td>1</td>\n",
       "      <td>Rs.</td>\n",
       "      <td>['Cash', 'Debit Card', 'Takeaway Available', '...</td>\n",
       "      <td>4.0</td>\n",
       "      <td>Very Good</td>\n",
       "      <td>726</td>\n",
       "      <td>703</td>\n",
       "      <td>0.0</td>\n",
       "      <td>1</td>\n",
       "      <td>-1</td>\n",
       "    </tr>\n",
       "    <tr>\n",
       "      <th>142349</th>\n",
       "      <td>37750</td>\n",
       "      <td>Faasos</td>\n",
       "      <td>['Quick Bites']</td>\n",
       "      <td>https://www.zomato.com/mumbai/faasos-veera-des...</td>\n",
       "      <td>Shop 06, Building 2, Pramukh Park Rehab CHS Li...</td>\n",
       "      <td>Mumbai</td>\n",
       "      <td>3</td>\n",
       "      <td>Veera Desai Area</td>\n",
       "      <td>19.139601</td>\n",
       "      <td>72.833119</td>\n",
       "      <td>...</td>\n",
       "      <td>1</td>\n",
       "      <td>Rs.</td>\n",
       "      <td>['Dinner', 'Cash', 'Takeaway Available', 'Debi...</td>\n",
       "      <td>3.9</td>\n",
       "      <td>Good</td>\n",
       "      <td>510</td>\n",
       "      <td>251</td>\n",
       "      <td>0.0</td>\n",
       "      <td>1</td>\n",
       "      <td>-1</td>\n",
       "    </tr>\n",
       "    <tr>\n",
       "      <th>142350</th>\n",
       "      <td>18165909</td>\n",
       "      <td>Charcoal Eats Express</td>\n",
       "      <td>['Quick Bites']</td>\n",
       "      <td>https://www.zomato.com/mumbai/charcoal-eats-ex...</td>\n",
       "      <td>Opposite Kamala Mills, Lower Parel, Mumbai</td>\n",
       "      <td>Mumbai</td>\n",
       "      <td>3</td>\n",
       "      <td>Lower Parel</td>\n",
       "      <td>19.002537</td>\n",
       "      <td>72.829391</td>\n",
       "      <td>...</td>\n",
       "      <td>2</td>\n",
       "      <td>Rs.</td>\n",
       "      <td>['Lunch', 'Cash', 'Credit Card', 'Dinner', 'St...</td>\n",
       "      <td>4.0</td>\n",
       "      <td>Very Good</td>\n",
       "      <td>491</td>\n",
       "      <td>344</td>\n",
       "      <td>0.0</td>\n",
       "      <td>-1</td>\n",
       "      <td>-1</td>\n",
       "    </tr>\n",
       "    <tr>\n",
       "      <th>142351</th>\n",
       "      <td>18306481</td>\n",
       "      <td>Wok Express</td>\n",
       "      <td>['Food Court']</td>\n",
       "      <td>https://www.zomato.com/mumbai/wok-express-1-an...</td>\n",
       "      <td>Food Court, 2nd Floor, Infinity Mall, Unit 215...</td>\n",
       "      <td>Mumbai</td>\n",
       "      <td>3</td>\n",
       "      <td>Infiniti Mall, Andheri Lokhandwala, Andheri West</td>\n",
       "      <td>19.141117</td>\n",
       "      <td>72.831181</td>\n",
       "      <td>...</td>\n",
       "      <td>2</td>\n",
       "      <td>Rs.</td>\n",
       "      <td>['No Alcohol Available', 'Dinner', 'Mall Parki...</td>\n",
       "      <td>3.7</td>\n",
       "      <td>Good</td>\n",
       "      <td>515</td>\n",
       "      <td>490</td>\n",
       "      <td>0.0</td>\n",
       "      <td>-1</td>\n",
       "      <td>-1</td>\n",
       "    </tr>\n",
       "    <tr>\n",
       "      <th>142352</th>\n",
       "      <td>18140577</td>\n",
       "      <td>Rasoi Thali</td>\n",
       "      <td>['Quick Bites']</td>\n",
       "      <td>https://www.zomato.com/mumbai/rasoi-thali-mulu...</td>\n",
       "      <td>Shop 5, Bhodke Building, Near Hanuman Mandir, ...</td>\n",
       "      <td>Mumbai</td>\n",
       "      <td>3</td>\n",
       "      <td>Mulund West</td>\n",
       "      <td>19.172657</td>\n",
       "      <td>72.956466</td>\n",
       "      <td>...</td>\n",
       "      <td>1</td>\n",
       "      <td>Rs.</td>\n",
       "      <td>['Lunch', 'Cash', 'Debit Card', 'Dinner', 'Tak...</td>\n",
       "      <td>3.9</td>\n",
       "      <td>Good</td>\n",
       "      <td>142</td>\n",
       "      <td>34</td>\n",
       "      <td>0.0</td>\n",
       "      <td>-1</td>\n",
       "      <td>-1</td>\n",
       "    </tr>\n",
       "  </tbody>\n",
       "</table>\n",
       "<p>6497 rows × 26 columns</p>\n",
       "</div>"
      ],
      "text/plain": [
       "          res_id                   name      establishment  \\\n",
       "134852  18562340            Drinkery 51  ['Casual Dining']   \n",
       "134853     34757           Joey's Pizza    ['Quick Bites']   \n",
       "134854  18548172                Hitchki            ['Bar']   \n",
       "134855  18392725                Tamasha         ['Lounge']   \n",
       "134856  18962112               Bayroute    ['Fine Dining']   \n",
       "...          ...                    ...                ...   \n",
       "142348     46792       BOX8- Desi Meals                 []   \n",
       "142349     37750                 Faasos    ['Quick Bites']   \n",
       "142350  18165909  Charcoal Eats Express    ['Quick Bites']   \n",
       "142351  18306481            Wok Express     ['Food Court']   \n",
       "142352  18140577            Rasoi Thali    ['Quick Bites']   \n",
       "\n",
       "                                                      url  \\\n",
       "134852  https://www.zomato.com/mumbai/drinkery-51-band...   \n",
       "134853  https://www.zomato.com/mumbai/joeys-pizza-mala...   \n",
       "134854  https://www.zomato.com/mumbai/hitchki-powai?ut...   \n",
       "134855  https://www.zomato.com/mumbai/tamasha-lower-pa...   \n",
       "134856  https://www.zomato.com/mumbai/bayroute-juhu?ut...   \n",
       "...                                                   ...   \n",
       "142348  https://www.zomato.com/mumbai/box8-desi-meals-...   \n",
       "142349  https://www.zomato.com/mumbai/faasos-veera-des...   \n",
       "142350  https://www.zomato.com/mumbai/charcoal-eats-ex...   \n",
       "142351  https://www.zomato.com/mumbai/wok-express-1-an...   \n",
       "142352  https://www.zomato.com/mumbai/rasoi-thali-mulu...   \n",
       "\n",
       "                                                  address    city  city_id  \\\n",
       "134852  1st Floor, Vibgyor Towers, Bandra Kurla Comple...  Mumbai        3   \n",
       "134853  Shop 1, Plot D, Samruddhi Complex, Chincholi B...  Mumbai        3   \n",
       "134854  5, Transocean, Hiranandani Business Park, Lake...  Mumbai        3   \n",
       "134855  Ground Floor, Victoria House, E.B Marg, Lower ...  Mumbai        3   \n",
       "134856  14, Silver Beach Estate, A.B. Nair Road, Oppos...  Mumbai        3   \n",
       "...                                                   ...     ...      ...   \n",
       "142348  102, Bhavani Industrial Estate, Opposite IIT B...  Mumbai        3   \n",
       "142349  Shop 06, Building 2, Pramukh Park Rehab CHS Li...  Mumbai        3   \n",
       "142350         Opposite Kamala Mills, Lower Parel, Mumbai  Mumbai        3   \n",
       "142351  Food Court, 2nd Floor, Infinity Mall, Unit 215...  Mumbai        3   \n",
       "142352  Shop 5, Bhodke Building, Near Hanuman Mandir, ...  Mumbai        3   \n",
       "\n",
       "                                                locality   latitude  \\\n",
       "134852                              Bandra Kurla Complex  19.067176   \n",
       "134853                                        Malad West  19.178188   \n",
       "134854                                             Powai  19.119930   \n",
       "134855                                       Lower Parel  19.006060   \n",
       "134856                                              Juhu  19.110684   \n",
       "...                                                  ...        ...   \n",
       "142348                                             Powai  19.124284   \n",
       "142349                                  Veera Desai Area  19.139601   \n",
       "142350                                       Lower Parel  19.002537   \n",
       "142351  Infiniti Mall, Andheri Lokhandwala, Andheri West  19.141117   \n",
       "142352                                       Mulund West  19.172657   \n",
       "\n",
       "        longitude  ... price_range  currency  \\\n",
       "134852  72.867493  ...           4       Rs.   \n",
       "134853  72.834666  ...           2       Rs.   \n",
       "134854  72.907331  ...           3       Rs.   \n",
       "134855  72.827496  ...           4       Rs.   \n",
       "134856  72.825368  ...           4       Rs.   \n",
       "...           ...  ...         ...       ...   \n",
       "142348  72.914877  ...           1       Rs.   \n",
       "142349  72.833119  ...           1       Rs.   \n",
       "142350  72.829391  ...           2       Rs.   \n",
       "142351  72.831181  ...           2       Rs.   \n",
       "142352  72.956466  ...           1       Rs.   \n",
       "\n",
       "                                               highlights aggregate_rating  \\\n",
       "134852  ['Dinner', 'Debit Card', 'Lunch', 'Serves Alco...              4.4   \n",
       "134853  ['Lunch', 'Cash', 'Takeaway Available', 'Debit...              4.5   \n",
       "134854  ['Lunch', 'Serves Alcohol', 'Cash', 'Credit Ca...              4.7   \n",
       "134855  ['Dinner', 'Cash', 'Takeaway Available', 'Cred...              4.7   \n",
       "134856  ['Dinner', 'Cash', 'Takeaway Available', 'Debi...              4.9   \n",
       "...                                                   ...              ...   \n",
       "142348  ['Cash', 'Debit Card', 'Takeaway Available', '...              4.0   \n",
       "142349  ['Dinner', 'Cash', 'Takeaway Available', 'Debi...              3.9   \n",
       "142350  ['Lunch', 'Cash', 'Credit Card', 'Dinner', 'St...              4.0   \n",
       "142351  ['No Alcohol Available', 'Dinner', 'Mall Parki...              3.7   \n",
       "142352  ['Lunch', 'Cash', 'Debit Card', 'Dinner', 'Tak...              3.9   \n",
       "\n",
       "       rating_text  votes  photo_count opentable_support delivery  takeaway  \n",
       "134852   Very Good   3796         1897               0.0        1        -1  \n",
       "134853   Excellent   7932         4960               0.0       -1        -1  \n",
       "134854   Excellent   3762        12979               0.0        1        -1  \n",
       "134855   Excellent   4979        16595               0.0       -1        -1  \n",
       "134856   Excellent    706         2484               0.0       -1        -1  \n",
       "...            ...    ...          ...               ...      ...       ...  \n",
       "142348   Very Good    726          703               0.0        1        -1  \n",
       "142349        Good    510          251               0.0        1        -1  \n",
       "142350   Very Good    491          344               0.0       -1        -1  \n",
       "142351        Good    515          490               0.0       -1        -1  \n",
       "142352        Good    142           34               0.0       -1        -1  \n",
       "\n",
       "[6497 rows x 26 columns]"
      ]
     },
     "execution_count": 7,
     "metadata": {},
     "output_type": "execute_result"
    }
   ],
   "source": [
    "data[data[\"city\"]==\"Mumbai\"]"
   ]
  },
  {
   "cell_type": "code",
   "execution_count": 8,
   "metadata": {
    "execution": {
     "iopub.execute_input": "2023-01-17T09:31:10.588671Z",
     "iopub.status.busy": "2023-01-17T09:31:10.588332Z",
     "iopub.status.idle": "2023-01-17T09:31:10.646177Z",
     "shell.execute_reply": "2023-01-17T09:31:10.644956Z",
     "shell.execute_reply.started": "2023-01-17T09:31:10.588641Z"
    },
    "papermill": {
     "duration": 0.152339,
     "end_time": "2022-11-14T14:47:22.512704",
     "exception": false,
     "start_time": "2022-11-14T14:47:22.360365",
     "status": "completed"
    },
    "tags": []
   },
   "outputs": [
    {
     "data": {
      "text/html": [
       "<div>\n",
       "<style scoped>\n",
       "    .dataframe tbody tr th:only-of-type {\n",
       "        vertical-align: middle;\n",
       "    }\n",
       "\n",
       "    .dataframe tbody tr th {\n",
       "        vertical-align: top;\n",
       "    }\n",
       "\n",
       "    .dataframe thead th {\n",
       "        text-align: right;\n",
       "    }\n",
       "</style>\n",
       "<table border=\"1\" class=\"dataframe\">\n",
       "  <thead>\n",
       "    <tr style=\"text-align: right;\">\n",
       "      <th></th>\n",
       "      <th>res_id</th>\n",
       "      <th>name</th>\n",
       "      <th>establishment</th>\n",
       "      <th>url</th>\n",
       "      <th>address</th>\n",
       "      <th>city</th>\n",
       "      <th>city_id</th>\n",
       "      <th>locality</th>\n",
       "      <th>latitude</th>\n",
       "      <th>longitude</th>\n",
       "      <th>...</th>\n",
       "      <th>price_range</th>\n",
       "      <th>currency</th>\n",
       "      <th>highlights</th>\n",
       "      <th>aggregate_rating</th>\n",
       "      <th>rating_text</th>\n",
       "      <th>votes</th>\n",
       "      <th>photo_count</th>\n",
       "      <th>opentable_support</th>\n",
       "      <th>delivery</th>\n",
       "      <th>takeaway</th>\n",
       "    </tr>\n",
       "  </thead>\n",
       "  <tbody>\n",
       "    <tr>\n",
       "      <th>53884</th>\n",
       "      <td>18895645</td>\n",
       "      <td>Plum By Bent Chair</td>\n",
       "      <td>['Casual Dining']</td>\n",
       "      <td>https://www.zomato.com/ncr/plum-by-bent-chair-...</td>\n",
       "      <td>The Walk, Worldmark 2, Aerocity, New Delhi</td>\n",
       "      <td>New Delhi</td>\n",
       "      <td>1</td>\n",
       "      <td>Aerocity</td>\n",
       "      <td>28.551540</td>\n",
       "      <td>77.122704</td>\n",
       "      <td>...</td>\n",
       "      <td>1</td>\n",
       "      <td>Rs.</td>\n",
       "      <td>['Debit Card', 'Dinner', 'Cash', 'Credit Card'...</td>\n",
       "      <td>4.9</td>\n",
       "      <td>Excellent</td>\n",
       "      <td>1545</td>\n",
       "      <td>4321</td>\n",
       "      <td>0.0</td>\n",
       "      <td>-1</td>\n",
       "      <td>-1</td>\n",
       "    </tr>\n",
       "    <tr>\n",
       "      <th>53885</th>\n",
       "      <td>18429148</td>\n",
       "      <td>Pa Pa Ya</td>\n",
       "      <td>['Fine Dining']</td>\n",
       "      <td>https://www.zomato.com/ncr/pa-pa-ya-saket-new-...</td>\n",
       "      <td>Dome, Level 4, Select Citywalk, A-3, District ...</td>\n",
       "      <td>New Delhi</td>\n",
       "      <td>1</td>\n",
       "      <td>Select Citywalk Mall, Saket</td>\n",
       "      <td>28.528391</td>\n",
       "      <td>77.218611</td>\n",
       "      <td>...</td>\n",
       "      <td>4</td>\n",
       "      <td>Rs.</td>\n",
       "      <td>['Credit Card', 'Debit Card', 'Lunch', 'Serves...</td>\n",
       "      <td>4.7</td>\n",
       "      <td>Excellent</td>\n",
       "      <td>3234</td>\n",
       "      <td>8344</td>\n",
       "      <td>0.0</td>\n",
       "      <td>-1</td>\n",
       "      <td>-1</td>\n",
       "    </tr>\n",
       "    <tr>\n",
       "      <th>53886</th>\n",
       "      <td>18418277</td>\n",
       "      <td>Ministry Of Beer</td>\n",
       "      <td>['Lounge']</td>\n",
       "      <td>https://www.zomato.com/ncr/ministry-of-beer-co...</td>\n",
       "      <td>M 44, Outer Circle, Connaught Place, New Delhi</td>\n",
       "      <td>New Delhi</td>\n",
       "      <td>1</td>\n",
       "      <td>Connaught Place</td>\n",
       "      <td>28.633286</td>\n",
       "      <td>77.222787</td>\n",
       "      <td>...</td>\n",
       "      <td>3</td>\n",
       "      <td>Rs.</td>\n",
       "      <td>['Lunch', 'Credit Card', 'Dinner', 'Cash', 'De...</td>\n",
       "      <td>4.5</td>\n",
       "      <td>Excellent</td>\n",
       "      <td>3043</td>\n",
       "      <td>9984</td>\n",
       "      <td>0.0</td>\n",
       "      <td>-1</td>\n",
       "      <td>-1</td>\n",
       "    </tr>\n",
       "    <tr>\n",
       "      <th>53887</th>\n",
       "      <td>18625812</td>\n",
       "      <td>Detroit</td>\n",
       "      <td>['Bar']</td>\n",
       "      <td>https://www.zomato.com/ncr/detroit-connaught-p...</td>\n",
       "      <td>F40, 2nd Floor, Inner Circle, \\nConnaught Plac...</td>\n",
       "      <td>New Delhi</td>\n",
       "      <td>1</td>\n",
       "      <td>Connaught Place</td>\n",
       "      <td>28.631357</td>\n",
       "      <td>77.220251</td>\n",
       "      <td>...</td>\n",
       "      <td>3</td>\n",
       "      <td>Rs.</td>\n",
       "      <td>['Lunch', 'Serves Alcohol', 'Takeaway Availabl...</td>\n",
       "      <td>4.6</td>\n",
       "      <td>Excellent</td>\n",
       "      <td>1327</td>\n",
       "      <td>3255</td>\n",
       "      <td>0.0</td>\n",
       "      <td>-1</td>\n",
       "      <td>-1</td>\n",
       "    </tr>\n",
       "    <tr>\n",
       "      <th>53888</th>\n",
       "      <td>18423151</td>\n",
       "      <td>The Darzi Bar &amp; Kitchen</td>\n",
       "      <td>['Casual Dining']</td>\n",
       "      <td>https://www.zomato.com/TheDarziBar?utm_source=...</td>\n",
       "      <td>H 55, 1st Floor, Outer Circle, Connaught Place...</td>\n",
       "      <td>New Delhi</td>\n",
       "      <td>1</td>\n",
       "      <td>Connaught Place</td>\n",
       "      <td>28.635508</td>\n",
       "      <td>77.219096</td>\n",
       "      <td>...</td>\n",
       "      <td>3</td>\n",
       "      <td>Rs.</td>\n",
       "      <td>['Lunch', 'Serves Alcohol', 'Cash', 'Credit Ca...</td>\n",
       "      <td>4.3</td>\n",
       "      <td>Very Good</td>\n",
       "      <td>3211</td>\n",
       "      <td>9618</td>\n",
       "      <td>0.0</td>\n",
       "      <td>-1</td>\n",
       "      <td>-1</td>\n",
       "    </tr>\n",
       "    <tr>\n",
       "      <th>...</th>\n",
       "      <td>...</td>\n",
       "      <td>...</td>\n",
       "      <td>...</td>\n",
       "      <td>...</td>\n",
       "      <td>...</td>\n",
       "      <td>...</td>\n",
       "      <td>...</td>\n",
       "      <td>...</td>\n",
       "      <td>...</td>\n",
       "      <td>...</td>\n",
       "      <td>...</td>\n",
       "      <td>...</td>\n",
       "      <td>...</td>\n",
       "      <td>...</td>\n",
       "      <td>...</td>\n",
       "      <td>...</td>\n",
       "      <td>...</td>\n",
       "      <td>...</td>\n",
       "      <td>...</td>\n",
       "      <td>...</td>\n",
       "      <td>...</td>\n",
       "    </tr>\n",
       "    <tr>\n",
       "      <th>59842</th>\n",
       "      <td>18372693</td>\n",
       "      <td>Three Tuns Cafe &amp; Bar</td>\n",
       "      <td>['Casual Dining']</td>\n",
       "      <td>https://www.zomato.com/ncr/three-tuns-cafe-bar...</td>\n",
       "      <td>2nd Floor, Unity One Mall, Near Janak Puri Wes...</td>\n",
       "      <td>New Delhi</td>\n",
       "      <td>1</td>\n",
       "      <td>Unity One Mall, Janakpuri</td>\n",
       "      <td>28.628702</td>\n",
       "      <td>77.076617</td>\n",
       "      <td>...</td>\n",
       "      <td>3</td>\n",
       "      <td>Rs.</td>\n",
       "      <td>['Debit Card', 'Takeaway Available', 'Dinner',...</td>\n",
       "      <td>4.4</td>\n",
       "      <td>Very Good</td>\n",
       "      <td>975</td>\n",
       "      <td>3139</td>\n",
       "      <td>0.0</td>\n",
       "      <td>-1</td>\n",
       "      <td>-1</td>\n",
       "    </tr>\n",
       "    <tr>\n",
       "      <th>59843</th>\n",
       "      <td>18523131</td>\n",
       "      <td>Too Indian</td>\n",
       "      <td>['Casual Dining']</td>\n",
       "      <td>https://www.zomato.com/ncr/too-indian-rajouri-...</td>\n",
       "      <td>A 39, Vishal Enclave, Rajouri Garden, New Delhi</td>\n",
       "      <td>New Delhi</td>\n",
       "      <td>1</td>\n",
       "      <td>Rajouri Garden</td>\n",
       "      <td>28.650466</td>\n",
       "      <td>77.120146</td>\n",
       "      <td>...</td>\n",
       "      <td>3</td>\n",
       "      <td>Rs.</td>\n",
       "      <td>['Lunch', 'Delivery', 'Credit Card', 'Dinner',...</td>\n",
       "      <td>4.0</td>\n",
       "      <td>Very Good</td>\n",
       "      <td>2037</td>\n",
       "      <td>7311</td>\n",
       "      <td>0.0</td>\n",
       "      <td>-1</td>\n",
       "      <td>-1</td>\n",
       "    </tr>\n",
       "    <tr>\n",
       "      <th>59844</th>\n",
       "      <td>307060</td>\n",
       "      <td>The Beer Cafe - BIGGIE</td>\n",
       "      <td>['Bar']</td>\n",
       "      <td>https://www.zomato.com/ncr/the-beer-cafe-biggi...</td>\n",
       "      <td>D-2, Inner Circle, Connaught Place, New Delhi</td>\n",
       "      <td>New Delhi</td>\n",
       "      <td>1</td>\n",
       "      <td>Connaught Place</td>\n",
       "      <td>28.633842</td>\n",
       "      <td>77.220804</td>\n",
       "      <td>...</td>\n",
       "      <td>3</td>\n",
       "      <td>Rs.</td>\n",
       "      <td>['Lunch', 'Serves Alcohol', 'Credit Card', 'Di...</td>\n",
       "      <td>4.1</td>\n",
       "      <td>Very Good</td>\n",
       "      <td>1609</td>\n",
       "      <td>1120</td>\n",
       "      <td>0.0</td>\n",
       "      <td>-1</td>\n",
       "      <td>-1</td>\n",
       "    </tr>\n",
       "    <tr>\n",
       "      <th>59845</th>\n",
       "      <td>18500611</td>\n",
       "      <td>Sixth Empirica</td>\n",
       "      <td>['Casual Dining']</td>\n",
       "      <td>https://www.zomato.com/ncr/sixth-empirica-punj...</td>\n",
       "      <td>Building 6, 2nd &amp; 3rd Floor, NWA, Punjabi Bagh...</td>\n",
       "      <td>New Delhi</td>\n",
       "      <td>1</td>\n",
       "      <td>Punjabi Bagh</td>\n",
       "      <td>28.666524</td>\n",
       "      <td>77.123032</td>\n",
       "      <td>...</td>\n",
       "      <td>3</td>\n",
       "      <td>Rs.</td>\n",
       "      <td>['Lunch', 'Debit Card', 'Dinner', 'Cash', 'Cre...</td>\n",
       "      <td>4.2</td>\n",
       "      <td>Very Good</td>\n",
       "      <td>1559</td>\n",
       "      <td>2791</td>\n",
       "      <td>0.0</td>\n",
       "      <td>-1</td>\n",
       "      <td>-1</td>\n",
       "    </tr>\n",
       "    <tr>\n",
       "      <th>59846</th>\n",
       "      <td>18128893</td>\n",
       "      <td>Lavaash By Saby</td>\n",
       "      <td>['Casual Dining']</td>\n",
       "      <td>https://www.zomato.com/ncr/lavaash-by-saby-meh...</td>\n",
       "      <td>H-5/1, Ambawatta One, Kalkadass Marg, Mehrauli...</td>\n",
       "      <td>New Delhi</td>\n",
       "      <td>1</td>\n",
       "      <td>Mehrauli</td>\n",
       "      <td>28.526504</td>\n",
       "      <td>77.185070</td>\n",
       "      <td>...</td>\n",
       "      <td>4</td>\n",
       "      <td>Rs.</td>\n",
       "      <td>['Delivery', 'Dinner', 'Cash', 'Credit Card', ...</td>\n",
       "      <td>4.1</td>\n",
       "      <td>Very Good</td>\n",
       "      <td>1362</td>\n",
       "      <td>2524</td>\n",
       "      <td>0.0</td>\n",
       "      <td>-1</td>\n",
       "      <td>-1</td>\n",
       "    </tr>\n",
       "  </tbody>\n",
       "</table>\n",
       "<p>3918 rows × 26 columns</p>\n",
       "</div>"
      ],
      "text/plain": [
       "         res_id                     name      establishment  \\\n",
       "53884  18895645       Plum By Bent Chair  ['Casual Dining']   \n",
       "53885  18429148                 Pa Pa Ya    ['Fine Dining']   \n",
       "53886  18418277         Ministry Of Beer         ['Lounge']   \n",
       "53887  18625812                  Detroit            ['Bar']   \n",
       "53888  18423151  The Darzi Bar & Kitchen  ['Casual Dining']   \n",
       "...         ...                      ...                ...   \n",
       "59842  18372693    Three Tuns Cafe & Bar  ['Casual Dining']   \n",
       "59843  18523131               Too Indian  ['Casual Dining']   \n",
       "59844    307060   The Beer Cafe - BIGGIE            ['Bar']   \n",
       "59845  18500611           Sixth Empirica  ['Casual Dining']   \n",
       "59846  18128893          Lavaash By Saby  ['Casual Dining']   \n",
       "\n",
       "                                                     url  \\\n",
       "53884  https://www.zomato.com/ncr/plum-by-bent-chair-...   \n",
       "53885  https://www.zomato.com/ncr/pa-pa-ya-saket-new-...   \n",
       "53886  https://www.zomato.com/ncr/ministry-of-beer-co...   \n",
       "53887  https://www.zomato.com/ncr/detroit-connaught-p...   \n",
       "53888  https://www.zomato.com/TheDarziBar?utm_source=...   \n",
       "...                                                  ...   \n",
       "59842  https://www.zomato.com/ncr/three-tuns-cafe-bar...   \n",
       "59843  https://www.zomato.com/ncr/too-indian-rajouri-...   \n",
       "59844  https://www.zomato.com/ncr/the-beer-cafe-biggi...   \n",
       "59845  https://www.zomato.com/ncr/sixth-empirica-punj...   \n",
       "59846  https://www.zomato.com/ncr/lavaash-by-saby-meh...   \n",
       "\n",
       "                                                 address       city  city_id  \\\n",
       "53884         The Walk, Worldmark 2, Aerocity, New Delhi  New Delhi        1   \n",
       "53885  Dome, Level 4, Select Citywalk, A-3, District ...  New Delhi        1   \n",
       "53886     M 44, Outer Circle, Connaught Place, New Delhi  New Delhi        1   \n",
       "53887  F40, 2nd Floor, Inner Circle, \\nConnaught Plac...  New Delhi        1   \n",
       "53888  H 55, 1st Floor, Outer Circle, Connaught Place...  New Delhi        1   \n",
       "...                                                  ...        ...      ...   \n",
       "59842  2nd Floor, Unity One Mall, Near Janak Puri Wes...  New Delhi        1   \n",
       "59843    A 39, Vishal Enclave, Rajouri Garden, New Delhi  New Delhi        1   \n",
       "59844      D-2, Inner Circle, Connaught Place, New Delhi  New Delhi        1   \n",
       "59845  Building 6, 2nd & 3rd Floor, NWA, Punjabi Bagh...  New Delhi        1   \n",
       "59846  H-5/1, Ambawatta One, Kalkadass Marg, Mehrauli...  New Delhi        1   \n",
       "\n",
       "                          locality   latitude  longitude  ... price_range  \\\n",
       "53884                     Aerocity  28.551540  77.122704  ...           1   \n",
       "53885  Select Citywalk Mall, Saket  28.528391  77.218611  ...           4   \n",
       "53886              Connaught Place  28.633286  77.222787  ...           3   \n",
       "53887              Connaught Place  28.631357  77.220251  ...           3   \n",
       "53888              Connaught Place  28.635508  77.219096  ...           3   \n",
       "...                            ...        ...        ...  ...         ...   \n",
       "59842    Unity One Mall, Janakpuri  28.628702  77.076617  ...           3   \n",
       "59843               Rajouri Garden  28.650466  77.120146  ...           3   \n",
       "59844              Connaught Place  28.633842  77.220804  ...           3   \n",
       "59845                 Punjabi Bagh  28.666524  77.123032  ...           3   \n",
       "59846                     Mehrauli  28.526504  77.185070  ...           4   \n",
       "\n",
       "       currency                                         highlights  \\\n",
       "53884       Rs.  ['Debit Card', 'Dinner', 'Cash', 'Credit Card'...   \n",
       "53885       Rs.  ['Credit Card', 'Debit Card', 'Lunch', 'Serves...   \n",
       "53886       Rs.  ['Lunch', 'Credit Card', 'Dinner', 'Cash', 'De...   \n",
       "53887       Rs.  ['Lunch', 'Serves Alcohol', 'Takeaway Availabl...   \n",
       "53888       Rs.  ['Lunch', 'Serves Alcohol', 'Cash', 'Credit Ca...   \n",
       "...         ...                                                ...   \n",
       "59842       Rs.  ['Debit Card', 'Takeaway Available', 'Dinner',...   \n",
       "59843       Rs.  ['Lunch', 'Delivery', 'Credit Card', 'Dinner',...   \n",
       "59844       Rs.  ['Lunch', 'Serves Alcohol', 'Credit Card', 'Di...   \n",
       "59845       Rs.  ['Lunch', 'Debit Card', 'Dinner', 'Cash', 'Cre...   \n",
       "59846       Rs.  ['Delivery', 'Dinner', 'Cash', 'Credit Card', ...   \n",
       "\n",
       "      aggregate_rating rating_text  votes  photo_count opentable_support  \\\n",
       "53884              4.9   Excellent   1545         4321               0.0   \n",
       "53885              4.7   Excellent   3234         8344               0.0   \n",
       "53886              4.5   Excellent   3043         9984               0.0   \n",
       "53887              4.6   Excellent   1327         3255               0.0   \n",
       "53888              4.3   Very Good   3211         9618               0.0   \n",
       "...                ...         ...    ...          ...               ...   \n",
       "59842              4.4   Very Good    975         3139               0.0   \n",
       "59843              4.0   Very Good   2037         7311               0.0   \n",
       "59844              4.1   Very Good   1609         1120               0.0   \n",
       "59845              4.2   Very Good   1559         2791               0.0   \n",
       "59846              4.1   Very Good   1362         2524               0.0   \n",
       "\n",
       "      delivery  takeaway  \n",
       "53884       -1        -1  \n",
       "53885       -1        -1  \n",
       "53886       -1        -1  \n",
       "53887       -1        -1  \n",
       "53888       -1        -1  \n",
       "...        ...       ...  \n",
       "59842       -1        -1  \n",
       "59843       -1        -1  \n",
       "59844       -1        -1  \n",
       "59845       -1        -1  \n",
       "59846       -1        -1  \n",
       "\n",
       "[3918 rows x 26 columns]"
      ]
     },
     "execution_count": 8,
     "metadata": {},
     "output_type": "execute_result"
    }
   ],
   "source": [
    "data[data[\"city\"]==\"New Delhi\"]"
   ]
  },
  {
   "cell_type": "code",
   "execution_count": 9,
   "metadata": {
    "execution": {
     "iopub.execute_input": "2023-01-17T09:31:10.648902Z",
     "iopub.status.busy": "2023-01-17T09:31:10.648024Z",
     "iopub.status.idle": "2023-01-17T09:31:10.701805Z",
     "shell.execute_reply": "2023-01-17T09:31:10.700566Z",
     "shell.execute_reply.started": "2023-01-17T09:31:10.648853Z"
    },
    "papermill": {
     "duration": 0.155843,
     "end_time": "2022-11-14T14:47:22.772668",
     "exception": false,
     "start_time": "2022-11-14T14:47:22.616825",
     "status": "completed"
    },
    "tags": []
   },
   "outputs": [
    {
     "data": {
      "text/html": [
       "<div>\n",
       "<style scoped>\n",
       "    .dataframe tbody tr th:only-of-type {\n",
       "        vertical-align: middle;\n",
       "    }\n",
       "\n",
       "    .dataframe tbody tr th {\n",
       "        vertical-align: top;\n",
       "    }\n",
       "\n",
       "    .dataframe thead th {\n",
       "        text-align: right;\n",
       "    }\n",
       "</style>\n",
       "<table border=\"1\" class=\"dataframe\">\n",
       "  <thead>\n",
       "    <tr style=\"text-align: right;\">\n",
       "      <th></th>\n",
       "      <th>res_id</th>\n",
       "      <th>name</th>\n",
       "      <th>establishment</th>\n",
       "      <th>url</th>\n",
       "      <th>address</th>\n",
       "      <th>city</th>\n",
       "      <th>city_id</th>\n",
       "      <th>locality</th>\n",
       "      <th>latitude</th>\n",
       "      <th>longitude</th>\n",
       "      <th>...</th>\n",
       "      <th>price_range</th>\n",
       "      <th>currency</th>\n",
       "      <th>highlights</th>\n",
       "      <th>aggregate_rating</th>\n",
       "      <th>rating_text</th>\n",
       "      <th>votes</th>\n",
       "      <th>photo_count</th>\n",
       "      <th>opentable_support</th>\n",
       "      <th>delivery</th>\n",
       "      <th>takeaway</th>\n",
       "    </tr>\n",
       "  </thead>\n",
       "  <tbody>\n",
       "    <tr>\n",
       "      <th>164447</th>\n",
       "      <td>11283</td>\n",
       "      <td>Harajuku - The O Hotel</td>\n",
       "      <td>['Fine Dining']</td>\n",
       "      <td>https://www.zomato.com/pune/harajuku-the-o-hot...</td>\n",
       "      <td>The O Hotel, North Main Road, Koregaon Park, Pune</td>\n",
       "      <td>Pune</td>\n",
       "      <td>5</td>\n",
       "      <td>The O Hotel, Koregaon Park</td>\n",
       "      <td>18.540239</td>\n",
       "      <td>73.887518</td>\n",
       "      <td>...</td>\n",
       "      <td>4</td>\n",
       "      <td>Rs.</td>\n",
       "      <td>['Cash', 'Debit Card', 'Lunch', 'Credit Card',...</td>\n",
       "      <td>3.7</td>\n",
       "      <td>Good</td>\n",
       "      <td>96</td>\n",
       "      <td>38</td>\n",
       "      <td>0.0</td>\n",
       "      <td>-1</td>\n",
       "      <td>-1</td>\n",
       "    </tr>\n",
       "    <tr>\n",
       "      <th>164448</th>\n",
       "      <td>10663</td>\n",
       "      <td>Mix@36 - The Westin</td>\n",
       "      <td>['Lounge']</td>\n",
       "      <td>https://www.zomato.com/pune/mix@36-the-westin-...</td>\n",
       "      <td>The Westin, Survey 36/3B, KP Annexe Mundhwa Ro...</td>\n",
       "      <td>Pune</td>\n",
       "      <td>5</td>\n",
       "      <td>The Westin, Mundhwa</td>\n",
       "      <td>18.540040</td>\n",
       "      <td>73.905910</td>\n",
       "      <td>...</td>\n",
       "      <td>4</td>\n",
       "      <td>Rs.</td>\n",
       "      <td>['Cash', 'Debit Card', 'Serves Alcohol', 'Take...</td>\n",
       "      <td>4.0</td>\n",
       "      <td>Very Good</td>\n",
       "      <td>682</td>\n",
       "      <td>78</td>\n",
       "      <td>0.0</td>\n",
       "      <td>-1</td>\n",
       "      <td>-1</td>\n",
       "    </tr>\n",
       "    <tr>\n",
       "      <th>164449</th>\n",
       "      <td>10743</td>\n",
       "      <td>Kangan - The Westin</td>\n",
       "      <td>['Fine Dining']</td>\n",
       "      <td>https://www.zomato.com/pune/kangan-the-westin-...</td>\n",
       "      <td>The Westin, 36/3B, KP Annexe, Mundhwa Road, Mu...</td>\n",
       "      <td>Pune</td>\n",
       "      <td>5</td>\n",
       "      <td>The Westin, Mundhwa</td>\n",
       "      <td>18.539455</td>\n",
       "      <td>73.906040</td>\n",
       "      <td>...</td>\n",
       "      <td>4</td>\n",
       "      <td>Rs.</td>\n",
       "      <td>['Serves Alcohol', 'Cash', 'Debit Card', 'Take...</td>\n",
       "      <td>4.0</td>\n",
       "      <td>Very Good</td>\n",
       "      <td>310</td>\n",
       "      <td>285</td>\n",
       "      <td>0.0</td>\n",
       "      <td>-1</td>\n",
       "      <td>-1</td>\n",
       "    </tr>\n",
       "    <tr>\n",
       "      <th>164450</th>\n",
       "      <td>18938162</td>\n",
       "      <td>Palette - The Westin</td>\n",
       "      <td>['Fine Dining']</td>\n",
       "      <td>https://www.zomato.com/pune/palette-the-westin...</td>\n",
       "      <td>The Westin, 36/3B, KP Annexe, Mundhwa Road, Mu...</td>\n",
       "      <td>Pune</td>\n",
       "      <td>5</td>\n",
       "      <td>The Westin, Mundhwa</td>\n",
       "      <td>18.539430</td>\n",
       "      <td>73.906009</td>\n",
       "      <td>...</td>\n",
       "      <td>4</td>\n",
       "      <td>Rs.</td>\n",
       "      <td>['Serves Alcohol', 'Credit Card', 'Lunch', 'Ca...</td>\n",
       "      <td>3.3</td>\n",
       "      <td>Average</td>\n",
       "      <td>9</td>\n",
       "      <td>31</td>\n",
       "      <td>0.0</td>\n",
       "      <td>-1</td>\n",
       "      <td>-1</td>\n",
       "    </tr>\n",
       "    <tr>\n",
       "      <th>164451</th>\n",
       "      <td>18310167</td>\n",
       "      <td>Coriander Kitchen - Conrad Pune</td>\n",
       "      <td>['Fine Dining']</td>\n",
       "      <td>https://www.zomato.com/pune/coriander-kitchen-...</td>\n",
       "      <td>Conrad, Mangaldas Road, Bund Garden Road, Pune</td>\n",
       "      <td>Pune</td>\n",
       "      <td>5</td>\n",
       "      <td>Conrad Pune, Bund Garden Road</td>\n",
       "      <td>18.535409</td>\n",
       "      <td>73.883592</td>\n",
       "      <td>...</td>\n",
       "      <td>4</td>\n",
       "      <td>Rs.</td>\n",
       "      <td>['Lunch', 'Serves Alcohol', 'Takeaway Availabl...</td>\n",
       "      <td>4.4</td>\n",
       "      <td>Very Good</td>\n",
       "      <td>500</td>\n",
       "      <td>1116</td>\n",
       "      <td>0.0</td>\n",
       "      <td>-1</td>\n",
       "      <td>-1</td>\n",
       "    </tr>\n",
       "    <tr>\n",
       "      <th>...</th>\n",
       "      <td>...</td>\n",
       "      <td>...</td>\n",
       "      <td>...</td>\n",
       "      <td>...</td>\n",
       "      <td>...</td>\n",
       "      <td>...</td>\n",
       "      <td>...</td>\n",
       "      <td>...</td>\n",
       "      <td>...</td>\n",
       "      <td>...</td>\n",
       "      <td>...</td>\n",
       "      <td>...</td>\n",
       "      <td>...</td>\n",
       "      <td>...</td>\n",
       "      <td>...</td>\n",
       "      <td>...</td>\n",
       "      <td>...</td>\n",
       "      <td>...</td>\n",
       "      <td>...</td>\n",
       "      <td>...</td>\n",
       "      <td>...</td>\n",
       "    </tr>\n",
       "    <tr>\n",
       "      <th>168659</th>\n",
       "      <td>13061</td>\n",
       "      <td>Lonavla Restaurant &amp; Bar- Hotel Lonavla</td>\n",
       "      <td>['Casual Dining']</td>\n",
       "      <td>https://www.zomato.com/pune/lonavla-restaurant...</td>\n",
       "      <td>Gawlinaka, Mumbai-Pune Highway, Lonavala, Pune</td>\n",
       "      <td>Pune</td>\n",
       "      <td>5</td>\n",
       "      <td>Lonavala</td>\n",
       "      <td>18.754747</td>\n",
       "      <td>73.405682</td>\n",
       "      <td>...</td>\n",
       "      <td>3</td>\n",
       "      <td>Rs.</td>\n",
       "      <td>['Dinner', 'Cash', 'Takeaway Available', 'Debi...</td>\n",
       "      <td>4.3</td>\n",
       "      <td>Very Good</td>\n",
       "      <td>474</td>\n",
       "      <td>81</td>\n",
       "      <td>0.0</td>\n",
       "      <td>-1</td>\n",
       "      <td>-1</td>\n",
       "    </tr>\n",
       "    <tr>\n",
       "      <th>168660</th>\n",
       "      <td>18555341</td>\n",
       "      <td>Utopia</td>\n",
       "      <td>['Casual Dining']</td>\n",
       "      <td>https://www.zomato.com/pune/utopia-lonavala?ut...</td>\n",
       "      <td>CTS 159, Old Mumbai-Pune Road, Lonavala, Pune</td>\n",
       "      <td>Pune</td>\n",
       "      <td>5</td>\n",
       "      <td>Lonavala</td>\n",
       "      <td>18.754342</td>\n",
       "      <td>73.402737</td>\n",
       "      <td>...</td>\n",
       "      <td>3</td>\n",
       "      <td>Rs.</td>\n",
       "      <td>['Dinner', 'Cash', 'Takeaway Available', 'Debi...</td>\n",
       "      <td>3.9</td>\n",
       "      <td>Good</td>\n",
       "      <td>336</td>\n",
       "      <td>204</td>\n",
       "      <td>0.0</td>\n",
       "      <td>-1</td>\n",
       "      <td>-1</td>\n",
       "    </tr>\n",
       "    <tr>\n",
       "      <th>168661</th>\n",
       "      <td>18767059</td>\n",
       "      <td>Mapro Garden</td>\n",
       "      <td>['Casual Dining']</td>\n",
       "      <td>https://www.zomato.com/pune/mapro-garden-lonav...</td>\n",
       "      <td>3 &amp; 4, Old Mumbai - Pune Highway, Valvan, Lona...</td>\n",
       "      <td>Pune</td>\n",
       "      <td>5</td>\n",
       "      <td>Lonavala</td>\n",
       "      <td>18.760234</td>\n",
       "      <td>73.419775</td>\n",
       "      <td>...</td>\n",
       "      <td>2</td>\n",
       "      <td>Rs.</td>\n",
       "      <td>['Dinner', 'Takeaway Available', 'No Alcohol A...</td>\n",
       "      <td>4.3</td>\n",
       "      <td>Very Good</td>\n",
       "      <td>143</td>\n",
       "      <td>227</td>\n",
       "      <td>0.0</td>\n",
       "      <td>-1</td>\n",
       "      <td>-1</td>\n",
       "    </tr>\n",
       "    <tr>\n",
       "      <th>168662</th>\n",
       "      <td>6503906</td>\n",
       "      <td>Hotel Chandralok</td>\n",
       "      <td>['Casual Dining']</td>\n",
       "      <td>https://www.zomato.com/pune/hotel-chandralok-l...</td>\n",
       "      <td>Near Bus Stand &amp; Post Office, Opposite Mumbai-...</td>\n",
       "      <td>Pune</td>\n",
       "      <td>5</td>\n",
       "      <td>Lonavala</td>\n",
       "      <td>18.753223</td>\n",
       "      <td>73.405655</td>\n",
       "      <td>...</td>\n",
       "      <td>2</td>\n",
       "      <td>Rs.</td>\n",
       "      <td>['No Alcohol Available', 'Dinner', 'Takeaway A...</td>\n",
       "      <td>4.3</td>\n",
       "      <td>Very Good</td>\n",
       "      <td>317</td>\n",
       "      <td>86</td>\n",
       "      <td>0.0</td>\n",
       "      <td>-1</td>\n",
       "      <td>-1</td>\n",
       "    </tr>\n",
       "    <tr>\n",
       "      <th>168663</th>\n",
       "      <td>18711838</td>\n",
       "      <td>Lion's Dhaaba</td>\n",
       "      <td>['Casual Dining']</td>\n",
       "      <td>https://www.zomato.com/pune/lions-dhaaba-6-lon...</td>\n",
       "      <td>Besides Lion's Point, Ambey Valley, Atvan, Lon...</td>\n",
       "      <td>Pune</td>\n",
       "      <td>5</td>\n",
       "      <td>Lonavala</td>\n",
       "      <td>18.687172</td>\n",
       "      <td>73.393627</td>\n",
       "      <td>...</td>\n",
       "      <td>3</td>\n",
       "      <td>Rs.</td>\n",
       "      <td>['Lunch', 'Takeaway Available', 'Dinner', 'Cas...</td>\n",
       "      <td>3.9</td>\n",
       "      <td>Good</td>\n",
       "      <td>67</td>\n",
       "      <td>171</td>\n",
       "      <td>0.0</td>\n",
       "      <td>-1</td>\n",
       "      <td>-1</td>\n",
       "    </tr>\n",
       "  </tbody>\n",
       "</table>\n",
       "<p>4217 rows × 26 columns</p>\n",
       "</div>"
      ],
      "text/plain": [
       "          res_id                                     name      establishment  \\\n",
       "164447     11283                   Harajuku - The O Hotel    ['Fine Dining']   \n",
       "164448     10663                      Mix@36 - The Westin         ['Lounge']   \n",
       "164449     10743                      Kangan - The Westin    ['Fine Dining']   \n",
       "164450  18938162                     Palette - The Westin    ['Fine Dining']   \n",
       "164451  18310167          Coriander Kitchen - Conrad Pune    ['Fine Dining']   \n",
       "...          ...                                      ...                ...   \n",
       "168659     13061  Lonavla Restaurant & Bar- Hotel Lonavla  ['Casual Dining']   \n",
       "168660  18555341                                   Utopia  ['Casual Dining']   \n",
       "168661  18767059                             Mapro Garden  ['Casual Dining']   \n",
       "168662   6503906                         Hotel Chandralok  ['Casual Dining']   \n",
       "168663  18711838                            Lion's Dhaaba  ['Casual Dining']   \n",
       "\n",
       "                                                      url  \\\n",
       "164447  https://www.zomato.com/pune/harajuku-the-o-hot...   \n",
       "164448  https://www.zomato.com/pune/mix@36-the-westin-...   \n",
       "164449  https://www.zomato.com/pune/kangan-the-westin-...   \n",
       "164450  https://www.zomato.com/pune/palette-the-westin...   \n",
       "164451  https://www.zomato.com/pune/coriander-kitchen-...   \n",
       "...                                                   ...   \n",
       "168659  https://www.zomato.com/pune/lonavla-restaurant...   \n",
       "168660  https://www.zomato.com/pune/utopia-lonavala?ut...   \n",
       "168661  https://www.zomato.com/pune/mapro-garden-lonav...   \n",
       "168662  https://www.zomato.com/pune/hotel-chandralok-l...   \n",
       "168663  https://www.zomato.com/pune/lions-dhaaba-6-lon...   \n",
       "\n",
       "                                                  address  city  city_id  \\\n",
       "164447  The O Hotel, North Main Road, Koregaon Park, Pune  Pune        5   \n",
       "164448  The Westin, Survey 36/3B, KP Annexe Mundhwa Ro...  Pune        5   \n",
       "164449  The Westin, 36/3B, KP Annexe, Mundhwa Road, Mu...  Pune        5   \n",
       "164450  The Westin, 36/3B, KP Annexe, Mundhwa Road, Mu...  Pune        5   \n",
       "164451     Conrad, Mangaldas Road, Bund Garden Road, Pune  Pune        5   \n",
       "...                                                   ...   ...      ...   \n",
       "168659     Gawlinaka, Mumbai-Pune Highway, Lonavala, Pune  Pune        5   \n",
       "168660      CTS 159, Old Mumbai-Pune Road, Lonavala, Pune  Pune        5   \n",
       "168661  3 & 4, Old Mumbai - Pune Highway, Valvan, Lona...  Pune        5   \n",
       "168662  Near Bus Stand & Post Office, Opposite Mumbai-...  Pune        5   \n",
       "168663  Besides Lion's Point, Ambey Valley, Atvan, Lon...  Pune        5   \n",
       "\n",
       "                             locality   latitude  longitude  ... price_range  \\\n",
       "164447     The O Hotel, Koregaon Park  18.540239  73.887518  ...           4   \n",
       "164448            The Westin, Mundhwa  18.540040  73.905910  ...           4   \n",
       "164449            The Westin, Mundhwa  18.539455  73.906040  ...           4   \n",
       "164450            The Westin, Mundhwa  18.539430  73.906009  ...           4   \n",
       "164451  Conrad Pune, Bund Garden Road  18.535409  73.883592  ...           4   \n",
       "...                               ...        ...        ...  ...         ...   \n",
       "168659                       Lonavala  18.754747  73.405682  ...           3   \n",
       "168660                       Lonavala  18.754342  73.402737  ...           3   \n",
       "168661                       Lonavala  18.760234  73.419775  ...           2   \n",
       "168662                       Lonavala  18.753223  73.405655  ...           2   \n",
       "168663                       Lonavala  18.687172  73.393627  ...           3   \n",
       "\n",
       "        currency                                         highlights  \\\n",
       "164447       Rs.  ['Cash', 'Debit Card', 'Lunch', 'Credit Card',...   \n",
       "164448       Rs.  ['Cash', 'Debit Card', 'Serves Alcohol', 'Take...   \n",
       "164449       Rs.  ['Serves Alcohol', 'Cash', 'Debit Card', 'Take...   \n",
       "164450       Rs.  ['Serves Alcohol', 'Credit Card', 'Lunch', 'Ca...   \n",
       "164451       Rs.  ['Lunch', 'Serves Alcohol', 'Takeaway Availabl...   \n",
       "...          ...                                                ...   \n",
       "168659       Rs.  ['Dinner', 'Cash', 'Takeaway Available', 'Debi...   \n",
       "168660       Rs.  ['Dinner', 'Cash', 'Takeaway Available', 'Debi...   \n",
       "168661       Rs.  ['Dinner', 'Takeaway Available', 'No Alcohol A...   \n",
       "168662       Rs.  ['No Alcohol Available', 'Dinner', 'Takeaway A...   \n",
       "168663       Rs.  ['Lunch', 'Takeaway Available', 'Dinner', 'Cas...   \n",
       "\n",
       "       aggregate_rating rating_text  votes  photo_count opentable_support  \\\n",
       "164447              3.7        Good     96           38               0.0   \n",
       "164448              4.0   Very Good    682           78               0.0   \n",
       "164449              4.0   Very Good    310          285               0.0   \n",
       "164450              3.3     Average      9           31               0.0   \n",
       "164451              4.4   Very Good    500         1116               0.0   \n",
       "...                 ...         ...    ...          ...               ...   \n",
       "168659              4.3   Very Good    474           81               0.0   \n",
       "168660              3.9        Good    336          204               0.0   \n",
       "168661              4.3   Very Good    143          227               0.0   \n",
       "168662              4.3   Very Good    317           86               0.0   \n",
       "168663              3.9        Good     67          171               0.0   \n",
       "\n",
       "       delivery  takeaway  \n",
       "164447       -1        -1  \n",
       "164448       -1        -1  \n",
       "164449       -1        -1  \n",
       "164450       -1        -1  \n",
       "164451       -1        -1  \n",
       "...         ...       ...  \n",
       "168659       -1        -1  \n",
       "168660       -1        -1  \n",
       "168661       -1        -1  \n",
       "168662       -1        -1  \n",
       "168663       -1        -1  \n",
       "\n",
       "[4217 rows x 26 columns]"
      ]
     },
     "execution_count": 9,
     "metadata": {},
     "output_type": "execute_result"
    }
   ],
   "source": [
    "data[data[\"city\"]==\"Pune\"]"
   ]
  },
  {
   "cell_type": "code",
   "execution_count": 10,
   "metadata": {
    "execution": {
     "iopub.execute_input": "2023-01-17T09:31:10.703659Z",
     "iopub.status.busy": "2023-01-17T09:31:10.703318Z",
     "iopub.status.idle": "2023-01-17T09:31:10.710794Z",
     "shell.execute_reply": "2023-01-17T09:31:10.709587Z",
     "shell.execute_reply.started": "2023-01-17T09:31:10.703625Z"
    },
    "papermill": {
     "duration": null,
     "end_time": null,
     "exception": null,
     "start_time": null,
     "status": "pending"
    },
    "tags": []
   },
   "outputs": [
    {
     "data": {
      "text/plain": [
       "(211944, 26)"
      ]
     },
     "execution_count": 10,
     "metadata": {},
     "output_type": "execute_result"
    }
   ],
   "source": [
    "data.shape"
   ]
  },
  {
   "cell_type": "markdown",
   "metadata": {
    "papermill": {
     "duration": null,
     "end_time": null,
     "exception": null,
     "start_time": null,
     "status": "pending"
    },
    "tags": []
   },
   "source": [
    "Our dataset has 26 features and 0.2 million plus rows. Let's find out more about these features using the <b>info( )</b> function"
   ]
  },
  {
   "cell_type": "code",
   "execution_count": 11,
   "metadata": {
    "execution": {
     "iopub.execute_input": "2023-01-17T09:31:10.712888Z",
     "iopub.status.busy": "2023-01-17T09:31:10.712518Z",
     "iopub.status.idle": "2023-01-17T09:31:10.86158Z",
     "shell.execute_reply": "2023-01-17T09:31:10.860528Z",
     "shell.execute_reply.started": "2023-01-17T09:31:10.712848Z"
    },
    "papermill": {
     "duration": null,
     "end_time": null,
     "exception": null,
     "start_time": null,
     "status": "pending"
    },
    "tags": []
   },
   "outputs": [
    {
     "name": "stdout",
     "output_type": "stream",
     "text": [
      "<class 'pandas.core.frame.DataFrame'>\n",
      "RangeIndex: 211944 entries, 0 to 211943\n",
      "Data columns (total 26 columns):\n",
      " #   Column                Non-Null Count   Dtype  \n",
      "---  ------                --------------   -----  \n",
      " 0   res_id                211944 non-null  int64  \n",
      " 1   name                  211944 non-null  object \n",
      " 2   establishment         211944 non-null  object \n",
      " 3   url                   211944 non-null  object \n",
      " 4   address               211810 non-null  object \n",
      " 5   city                  211944 non-null  object \n",
      " 6   city_id               211944 non-null  int64  \n",
      " 7   locality              211944 non-null  object \n",
      " 8   latitude              211944 non-null  float64\n",
      " 9   longitude             211944 non-null  float64\n",
      " 10  zipcode               48757 non-null   object \n",
      " 11  country_id            211944 non-null  int64  \n",
      " 12  locality_verbose      211944 non-null  object \n",
      " 13  cuisines              210553 non-null  object \n",
      " 14  timings               208070 non-null  object \n",
      " 15  average_cost_for_two  211944 non-null  int64  \n",
      " 16  price_range           211944 non-null  int64  \n",
      " 17  currency              211944 non-null  object \n",
      " 18  highlights            211944 non-null  object \n",
      " 19  aggregate_rating      211944 non-null  float64\n",
      " 20  rating_text           211944 non-null  object \n",
      " 21  votes                 211944 non-null  int64  \n",
      " 22  photo_count           211944 non-null  int64  \n",
      " 23  opentable_support     211896 non-null  float64\n",
      " 24  delivery              211944 non-null  int64  \n",
      " 25  takeaway              211944 non-null  int64  \n",
      "dtypes: float64(4), int64(9), object(13)\n",
      "memory usage: 42.0+ MB\n"
     ]
    }
   ],
   "source": [
    "data.info()"
   ]
  },
  {
   "cell_type": "markdown",
   "metadata": {
    "papermill": {
     "duration": null,
     "end_time": null,
     "exception": null,
     "start_time": null,
     "status": "pending"
    },
    "tags": []
   },
   "source": [
    "We have many interesting features which can be great for analysis and also some which we will omit. The difference in count of some features gives us hint of some missing values. \n",
    "While <b>info( )</b> is used to know about count, null and type properties, <b>describe( )</b> gives us statistical information about numerical data."
   ]
  },
  {
   "cell_type": "code",
   "execution_count": 12,
   "metadata": {
    "execution": {
     "iopub.execute_input": "2023-01-17T09:31:10.896301Z",
     "iopub.status.busy": "2023-01-17T09:31:10.8958Z",
     "iopub.status.idle": "2023-01-17T09:31:11.026595Z",
     "shell.execute_reply": "2023-01-17T09:31:11.024238Z",
     "shell.execute_reply.started": "2023-01-17T09:31:10.896236Z"
    },
    "papermill": {
     "duration": null,
     "end_time": null,
     "exception": null,
     "start_time": null,
     "status": "pending"
    },
    "tags": []
   },
   "outputs": [
    {
     "data": {
      "text/html": [
       "<div>\n",
       "<style scoped>\n",
       "    .dataframe tbody tr th:only-of-type {\n",
       "        vertical-align: middle;\n",
       "    }\n",
       "\n",
       "    .dataframe tbody tr th {\n",
       "        vertical-align: top;\n",
       "    }\n",
       "\n",
       "    .dataframe thead th {\n",
       "        text-align: right;\n",
       "    }\n",
       "</style>\n",
       "<table border=\"1\" class=\"dataframe\">\n",
       "  <thead>\n",
       "    <tr style=\"text-align: right;\">\n",
       "      <th></th>\n",
       "      <th>res_id</th>\n",
       "      <th>city_id</th>\n",
       "      <th>latitude</th>\n",
       "      <th>longitude</th>\n",
       "      <th>country_id</th>\n",
       "      <th>average_cost_for_two</th>\n",
       "      <th>price_range</th>\n",
       "      <th>aggregate_rating</th>\n",
       "      <th>votes</th>\n",
       "      <th>photo_count</th>\n",
       "      <th>opentable_support</th>\n",
       "      <th>delivery</th>\n",
       "      <th>takeaway</th>\n",
       "    </tr>\n",
       "  </thead>\n",
       "  <tbody>\n",
       "    <tr>\n",
       "      <th>count</th>\n",
       "      <td>2.119440e+05</td>\n",
       "      <td>211944.000000</td>\n",
       "      <td>211944.000000</td>\n",
       "      <td>211944.000000</td>\n",
       "      <td>211944.0</td>\n",
       "      <td>211944.000000</td>\n",
       "      <td>211944.000000</td>\n",
       "      <td>211944.000000</td>\n",
       "      <td>211944.000000</td>\n",
       "      <td>211944.000000</td>\n",
       "      <td>211896.0</td>\n",
       "      <td>211944.000000</td>\n",
       "      <td>211944.0</td>\n",
       "    </tr>\n",
       "    <tr>\n",
       "      <th>mean</th>\n",
       "      <td>1.349411e+07</td>\n",
       "      <td>4746.785434</td>\n",
       "      <td>21.499758</td>\n",
       "      <td>77.615276</td>\n",
       "      <td>1.0</td>\n",
       "      <td>595.812229</td>\n",
       "      <td>1.882535</td>\n",
       "      <td>3.395937</td>\n",
       "      <td>378.001864</td>\n",
       "      <td>256.971224</td>\n",
       "      <td>0.0</td>\n",
       "      <td>-0.255907</td>\n",
       "      <td>-1.0</td>\n",
       "    </tr>\n",
       "    <tr>\n",
       "      <th>std</th>\n",
       "      <td>7.883722e+06</td>\n",
       "      <td>5568.766386</td>\n",
       "      <td>22.781331</td>\n",
       "      <td>7.500104</td>\n",
       "      <td>0.0</td>\n",
       "      <td>606.239363</td>\n",
       "      <td>0.892989</td>\n",
       "      <td>1.283642</td>\n",
       "      <td>925.333370</td>\n",
       "      <td>867.668940</td>\n",
       "      <td>0.0</td>\n",
       "      <td>0.964172</td>\n",
       "      <td>0.0</td>\n",
       "    </tr>\n",
       "    <tr>\n",
       "      <th>min</th>\n",
       "      <td>5.000000e+01</td>\n",
       "      <td>1.000000</td>\n",
       "      <td>0.000000</td>\n",
       "      <td>0.000000</td>\n",
       "      <td>1.0</td>\n",
       "      <td>0.000000</td>\n",
       "      <td>1.000000</td>\n",
       "      <td>0.000000</td>\n",
       "      <td>-18.000000</td>\n",
       "      <td>0.000000</td>\n",
       "      <td>0.0</td>\n",
       "      <td>-1.000000</td>\n",
       "      <td>-1.0</td>\n",
       "    </tr>\n",
       "    <tr>\n",
       "      <th>25%</th>\n",
       "      <td>3.301027e+06</td>\n",
       "      <td>11.000000</td>\n",
       "      <td>15.496071</td>\n",
       "      <td>74.877961</td>\n",
       "      <td>1.0</td>\n",
       "      <td>250.000000</td>\n",
       "      <td>1.000000</td>\n",
       "      <td>3.300000</td>\n",
       "      <td>16.000000</td>\n",
       "      <td>3.000000</td>\n",
       "      <td>0.0</td>\n",
       "      <td>-1.000000</td>\n",
       "      <td>-1.0</td>\n",
       "    </tr>\n",
       "    <tr>\n",
       "      <th>50%</th>\n",
       "      <td>1.869573e+07</td>\n",
       "      <td>34.000000</td>\n",
       "      <td>22.514494</td>\n",
       "      <td>77.425971</td>\n",
       "      <td>1.0</td>\n",
       "      <td>400.000000</td>\n",
       "      <td>2.000000</td>\n",
       "      <td>3.800000</td>\n",
       "      <td>100.000000</td>\n",
       "      <td>18.000000</td>\n",
       "      <td>0.0</td>\n",
       "      <td>-1.000000</td>\n",
       "      <td>-1.0</td>\n",
       "    </tr>\n",
       "    <tr>\n",
       "      <th>75%</th>\n",
       "      <td>1.881297e+07</td>\n",
       "      <td>11306.000000</td>\n",
       "      <td>26.841667</td>\n",
       "      <td>80.219323</td>\n",
       "      <td>1.0</td>\n",
       "      <td>700.000000</td>\n",
       "      <td>2.000000</td>\n",
       "      <td>4.100000</td>\n",
       "      <td>362.000000</td>\n",
       "      <td>128.000000</td>\n",
       "      <td>0.0</td>\n",
       "      <td>1.000000</td>\n",
       "      <td>-1.0</td>\n",
       "    </tr>\n",
       "    <tr>\n",
       "      <th>max</th>\n",
       "      <td>1.915979e+07</td>\n",
       "      <td>11354.000000</td>\n",
       "      <td>10000.000000</td>\n",
       "      <td>91.832769</td>\n",
       "      <td>1.0</td>\n",
       "      <td>30000.000000</td>\n",
       "      <td>4.000000</td>\n",
       "      <td>4.900000</td>\n",
       "      <td>42539.000000</td>\n",
       "      <td>17702.000000</td>\n",
       "      <td>0.0</td>\n",
       "      <td>1.000000</td>\n",
       "      <td>-1.0</td>\n",
       "    </tr>\n",
       "  </tbody>\n",
       "</table>\n",
       "</div>"
      ],
      "text/plain": [
       "             res_id        city_id       latitude      longitude  country_id  \\\n",
       "count  2.119440e+05  211944.000000  211944.000000  211944.000000    211944.0   \n",
       "mean   1.349411e+07    4746.785434      21.499758      77.615276         1.0   \n",
       "std    7.883722e+06    5568.766386      22.781331       7.500104         0.0   \n",
       "min    5.000000e+01       1.000000       0.000000       0.000000         1.0   \n",
       "25%    3.301027e+06      11.000000      15.496071      74.877961         1.0   \n",
       "50%    1.869573e+07      34.000000      22.514494      77.425971         1.0   \n",
       "75%    1.881297e+07   11306.000000      26.841667      80.219323         1.0   \n",
       "max    1.915979e+07   11354.000000   10000.000000      91.832769         1.0   \n",
       "\n",
       "       average_cost_for_two    price_range  aggregate_rating          votes  \\\n",
       "count         211944.000000  211944.000000     211944.000000  211944.000000   \n",
       "mean             595.812229       1.882535          3.395937     378.001864   \n",
       "std              606.239363       0.892989          1.283642     925.333370   \n",
       "min                0.000000       1.000000          0.000000     -18.000000   \n",
       "25%              250.000000       1.000000          3.300000      16.000000   \n",
       "50%              400.000000       2.000000          3.800000     100.000000   \n",
       "75%              700.000000       2.000000          4.100000     362.000000   \n",
       "max            30000.000000       4.000000          4.900000   42539.000000   \n",
       "\n",
       "         photo_count  opentable_support       delivery  takeaway  \n",
       "count  211944.000000           211896.0  211944.000000  211944.0  \n",
       "mean      256.971224                0.0      -0.255907      -1.0  \n",
       "std       867.668940                0.0       0.964172       0.0  \n",
       "min         0.000000                0.0      -1.000000      -1.0  \n",
       "25%         3.000000                0.0      -1.000000      -1.0  \n",
       "50%        18.000000                0.0      -1.000000      -1.0  \n",
       "75%       128.000000                0.0       1.000000      -1.0  \n",
       "max     17702.000000                0.0       1.000000      -1.0  "
      ]
     },
     "execution_count": 12,
     "metadata": {},
     "output_type": "execute_result"
    }
   ],
   "source": [
    "data.describe()"
   ]
  },
  {
   "cell_type": "code",
   "execution_count": 13,
   "metadata": {},
   "outputs": [
    {
     "data": {
      "text/plain": [
       "211944"
      ]
     },
     "execution_count": 13,
     "metadata": {},
     "output_type": "execute_result"
    }
   ],
   "source": [
    "data['res_id'].duplicated().count()"
   ]
  },
  {
   "cell_type": "markdown",
   "metadata": {
    "papermill": {
     "duration": null,
     "end_time": null,
     "exception": null,
     "start_time": null,
     "status": "pending"
    },
    "tags": []
   },
   "source": [
    "### Removing duplicates\n",
    "Its important to remove duplicate rows to avoid biasness in our analysis. Since res_id is unique identifier of our restaurants, we can use it to remove duplicates."
   ]
  },
  {
   "cell_type": "code",
   "execution_count": 14,
   "metadata": {
    "execution": {
     "iopub.execute_input": "2023-01-17T09:31:11.069558Z",
     "iopub.status.busy": "2023-01-17T09:31:11.069117Z",
     "iopub.status.idle": "2023-01-17T09:31:11.110878Z",
     "shell.execute_reply": "2023-01-17T09:31:11.109895Z",
     "shell.execute_reply.started": "2023-01-17T09:31:11.06952Z"
    },
    "papermill": {
     "duration": null,
     "end_time": null,
     "exception": null,
     "start_time": null,
     "status": "pending"
    },
    "tags": []
   },
   "outputs": [
    {
     "data": {
      "text/plain": [
       "(55568, 26)"
      ]
     },
     "execution_count": 14,
     "metadata": {},
     "output_type": "execute_result"
    }
   ],
   "source": [
    "data.drop_duplicates([\"res_id\"],keep='first',inplace=True)\n",
    "data.shape\n"
   ]
  },
  {
   "cell_type": "markdown",
   "metadata": {
    "papermill": {
     "duration": null,
     "end_time": null,
     "exception": null,
     "start_time": null,
     "status": "pending"
    },
    "tags": []
   },
   "source": [
    "Oops! Looks like almost 75% of our data had duplicate rows. Its good that we got that out before getting started. Even though we are left with 1/4th of our original dataset, about 55000+ restaurants is still good enough to perform analysis.\n",
    "### Dealing with missing values\n",
    "Now let's see how many variables have missing values."
   ]
  },
  {
   "cell_type": "code",
   "execution_count": 15,
   "metadata": {
    "execution": {
     "iopub.execute_input": "2023-01-17T09:31:11.113196Z",
     "iopub.status.busy": "2023-01-17T09:31:11.112245Z",
     "iopub.status.idle": "2023-01-17T09:31:11.17316Z",
     "shell.execute_reply": "2023-01-17T09:31:11.171929Z",
     "shell.execute_reply.started": "2023-01-17T09:31:11.11316Z"
    },
    "papermill": {
     "duration": null,
     "end_time": null,
     "exception": null,
     "start_time": null,
     "status": "pending"
    },
    "tags": []
   },
   "outputs": [
    {
     "data": {
      "text/plain": [
       "res_id                      0\n",
       "name                        0\n",
       "establishment               0\n",
       "url                         0\n",
       "address                    18\n",
       "city                        0\n",
       "city_id                     0\n",
       "locality                    0\n",
       "latitude                    0\n",
       "longitude                   0\n",
       "zipcode                 44623\n",
       "country_id                  0\n",
       "locality_verbose            0\n",
       "cuisines                  470\n",
       "timings                  1003\n",
       "average_cost_for_two        0\n",
       "price_range                 0\n",
       "currency                    0\n",
       "highlights                  0\n",
       "aggregate_rating            0\n",
       "rating_text                 0\n",
       "votes                       0\n",
       "photo_count                 0\n",
       "opentable_support          12\n",
       "delivery                    0\n",
       "takeaway                    0\n",
       "dtype: int64"
      ]
     },
     "execution_count": 15,
     "metadata": {},
     "output_type": "execute_result"
    }
   ],
   "source": [
    "data.isnull().sum()"
   ]
  },
  {
   "cell_type": "code",
   "execution_count": 16,
   "metadata": {},
   "outputs": [
    {
     "data": {
      "image/png": "[encoded data removed]",
      "text/plain": [
       "<Figure size 640x480 with 2 Axes>"
      ]
     },
     "metadata": {},
     "output_type": "display_data"
    }
   ],
   "source": [
    "sns.heatmap(data.isnull())\n",
    "plt.show()"
   ]
  },
  {
   "cell_type": "markdown",
   "metadata": {},
   "source": [
    "We have 5 variables with some kind of missing values. \n",
    "Since zipcode has ~80% missing data, its better to not consider it at all. The other 4 features can be delt with some kind of imputation, but before going through the trouble, its better to look and decide whether they would be beneficial for our analysis or we can simply omit them.\n",
    "### Omitting not useful features\n",
    "Here we will look at each feature and decide to consider them for our analysis or not:- \n",
    "1. <b>res_id</b> - Unique ID for each restaurant\n",
    "2. <b>name</b> - Name is useful since we will use it to find top restaurants\n",
    "3. <b>url</b> - URL is the link to restaurant's page which is not useful for us <br>\n",
    "4. <b>address</b> - Not useful since it has long strings and its difficult to classify <br>"
   ]
  },
  {
   "cell_type": "code",
   "execution_count": 17,
   "metadata": {},
   "outputs": [
    {
     "data": {
      "text/html": [
       "<div>\n",
       "<style scoped>\n",
       "    .dataframe tbody tr th:only-of-type {\n",
       "        vertical-align: middle;\n",
       "    }\n",
       "\n",
       "    .dataframe tbody tr th {\n",
       "        vertical-align: top;\n",
       "    }\n",
       "\n",
       "    .dataframe thead th {\n",
       "        text-align: right;\n",
       "    }\n",
       "</style>\n",
       "<table border=\"1\" class=\"dataframe\">\n",
       "  <thead>\n",
       "    <tr style=\"text-align: right;\">\n",
       "      <th></th>\n",
       "      <th>establishment</th>\n",
       "      <th>city</th>\n",
       "      <th>city_id</th>\n",
       "      <th>locality</th>\n",
       "      <th>latitude</th>\n",
       "      <th>longitude</th>\n",
       "      <th>country_id</th>\n",
       "      <th>locality_verbose</th>\n",
       "      <th>cuisines</th>\n",
       "      <th>timings</th>\n",
       "      <th>...</th>\n",
       "      <th>price_range</th>\n",
       "      <th>currency</th>\n",
       "      <th>highlights</th>\n",
       "      <th>aggregate_rating</th>\n",
       "      <th>rating_text</th>\n",
       "      <th>votes</th>\n",
       "      <th>photo_count</th>\n",
       "      <th>opentable_support</th>\n",
       "      <th>delivery</th>\n",
       "      <th>takeaway</th>\n",
       "    </tr>\n",
       "  </thead>\n",
       "  <tbody>\n",
       "    <tr>\n",
       "      <th>0</th>\n",
       "      <td>['Quick Bites']</td>\n",
       "      <td>Agra</td>\n",
       "      <td>34</td>\n",
       "      <td>Khandari</td>\n",
       "      <td>27.211450</td>\n",
       "      <td>78.002381</td>\n",
       "      <td>1</td>\n",
       "      <td>Khandari, Agra</td>\n",
       "      <td>North Indian, South Indian, Mithai, Street Foo...</td>\n",
       "      <td>8:30am – 10:30pm (Mon-Sun)</td>\n",
       "      <td>...</td>\n",
       "      <td>2</td>\n",
       "      <td>Rs.</td>\n",
       "      <td>['Lunch', 'Takeaway Available', 'Credit Card',...</td>\n",
       "      <td>4.4</td>\n",
       "      <td>Very Good</td>\n",
       "      <td>814</td>\n",
       "      <td>154</td>\n",
       "      <td>0.0</td>\n",
       "      <td>-1</td>\n",
       "      <td>-1</td>\n",
       "    </tr>\n",
       "    <tr>\n",
       "      <th>1</th>\n",
       "      <td>['Quick Bites']</td>\n",
       "      <td>Agra</td>\n",
       "      <td>34</td>\n",
       "      <td>Agra Cantt</td>\n",
       "      <td>27.160569</td>\n",
       "      <td>78.011583</td>\n",
       "      <td>1</td>\n",
       "      <td>Agra Cantt, Agra</td>\n",
       "      <td>North Indian, Mughlai, Rolls, Chinese, Fast Fo...</td>\n",
       "      <td>12:30PM to 12Midnight (Mon, Wed, Thu, Fri, Sat...</td>\n",
       "      <td>...</td>\n",
       "      <td>2</td>\n",
       "      <td>Rs.</td>\n",
       "      <td>['Delivery', 'No Alcohol Available', 'Dinner',...</td>\n",
       "      <td>4.4</td>\n",
       "      <td>Very Good</td>\n",
       "      <td>1203</td>\n",
       "      <td>161</td>\n",
       "      <td>0.0</td>\n",
       "      <td>-1</td>\n",
       "      <td>-1</td>\n",
       "    </tr>\n",
       "    <tr>\n",
       "      <th>2</th>\n",
       "      <td>['Quick Bites']</td>\n",
       "      <td>Agra</td>\n",
       "      <td>34</td>\n",
       "      <td>Shahganj</td>\n",
       "      <td>27.182938</td>\n",
       "      <td>77.979684</td>\n",
       "      <td>1</td>\n",
       "      <td>Shahganj, Agra</td>\n",
       "      <td>Fast Food, Mithai</td>\n",
       "      <td>9:30 AM to 11 PM</td>\n",
       "      <td>...</td>\n",
       "      <td>1</td>\n",
       "      <td>Rs.</td>\n",
       "      <td>['No Alcohol Available', 'Dinner', 'Takeaway A...</td>\n",
       "      <td>4.2</td>\n",
       "      <td>Very Good</td>\n",
       "      <td>801</td>\n",
       "      <td>107</td>\n",
       "      <td>0.0</td>\n",
       "      <td>1</td>\n",
       "      <td>-1</td>\n",
       "    </tr>\n",
       "    <tr>\n",
       "      <th>3</th>\n",
       "      <td>['Quick Bites']</td>\n",
       "      <td>Agra</td>\n",
       "      <td>34</td>\n",
       "      <td>Civil Lines</td>\n",
       "      <td>27.205668</td>\n",
       "      <td>78.004799</td>\n",
       "      <td>1</td>\n",
       "      <td>Civil Lines, Agra</td>\n",
       "      <td>Desserts, Bakery, Fast Food, South Indian</td>\n",
       "      <td>8am – 11pm (Mon-Sun)</td>\n",
       "      <td>...</td>\n",
       "      <td>1</td>\n",
       "      <td>Rs.</td>\n",
       "      <td>['Takeaway Available', 'Credit Card', 'Lunch',...</td>\n",
       "      <td>4.3</td>\n",
       "      <td>Very Good</td>\n",
       "      <td>693</td>\n",
       "      <td>157</td>\n",
       "      <td>0.0</td>\n",
       "      <td>1</td>\n",
       "      <td>-1</td>\n",
       "    </tr>\n",
       "    <tr>\n",
       "      <th>4</th>\n",
       "      <td>['Casual Dining']</td>\n",
       "      <td>Agra</td>\n",
       "      <td>34</td>\n",
       "      <td>Tajganj</td>\n",
       "      <td>27.157709</td>\n",
       "      <td>78.052421</td>\n",
       "      <td>1</td>\n",
       "      <td>Tajganj, Agra</td>\n",
       "      <td>North Indian, Continental, Italian</td>\n",
       "      <td>11:30 AM to 11:30 PM</td>\n",
       "      <td>...</td>\n",
       "      <td>3</td>\n",
       "      <td>Rs.</td>\n",
       "      <td>['Lunch', 'Serves Alcohol', 'Cash', 'Credit Ca...</td>\n",
       "      <td>4.9</td>\n",
       "      <td>Excellent</td>\n",
       "      <td>470</td>\n",
       "      <td>291</td>\n",
       "      <td>0.0</td>\n",
       "      <td>1</td>\n",
       "      <td>-1</td>\n",
       "    </tr>\n",
       "  </tbody>\n",
       "</table>\n",
       "<p>5 rows × 21 columns</p>\n",
       "</div>"
      ],
      "text/plain": [
       "       establishment  city  city_id     locality   latitude  longitude  \\\n",
       "0    ['Quick Bites']  Agra       34     Khandari  27.211450  78.002381   \n",
       "1    ['Quick Bites']  Agra       34   Agra Cantt  27.160569  78.011583   \n",
       "2    ['Quick Bites']  Agra       34     Shahganj  27.182938  77.979684   \n",
       "3    ['Quick Bites']  Agra       34  Civil Lines  27.205668  78.004799   \n",
       "4  ['Casual Dining']  Agra       34      Tajganj  27.157709  78.052421   \n",
       "\n",
       "   country_id   locality_verbose  \\\n",
       "0           1     Khandari, Agra   \n",
       "1           1   Agra Cantt, Agra   \n",
       "2           1     Shahganj, Agra   \n",
       "3           1  Civil Lines, Agra   \n",
       "4           1      Tajganj, Agra   \n",
       "\n",
       "                                            cuisines  \\\n",
       "0  North Indian, South Indian, Mithai, Street Foo...   \n",
       "1  North Indian, Mughlai, Rolls, Chinese, Fast Fo...   \n",
       "2                                  Fast Food, Mithai   \n",
       "3          Desserts, Bakery, Fast Food, South Indian   \n",
       "4                 North Indian, Continental, Italian   \n",
       "\n",
       "                                             timings  ...  price_range  \\\n",
       "0                         8:30am – 10:30pm (Mon-Sun)  ...            2   \n",
       "1  12:30PM to 12Midnight (Mon, Wed, Thu, Fri, Sat...  ...            2   \n",
       "2                                   9:30 AM to 11 PM  ...            1   \n",
       "3                               8am – 11pm (Mon-Sun)  ...            1   \n",
       "4                               11:30 AM to 11:30 PM  ...            3   \n",
       "\n",
       "   currency                                         highlights  \\\n",
       "0       Rs.  ['Lunch', 'Takeaway Available', 'Credit Card',...   \n",
       "1       Rs.  ['Delivery', 'No Alcohol Available', 'Dinner',...   \n",
       "2       Rs.  ['No Alcohol Available', 'Dinner', 'Takeaway A...   \n",
       "3       Rs.  ['Takeaway Available', 'Credit Card', 'Lunch',...   \n",
       "4       Rs.  ['Lunch', 'Serves Alcohol', 'Cash', 'Credit Ca...   \n",
       "\n",
       "  aggregate_rating  rating_text votes  photo_count  opentable_support  \\\n",
       "0              4.4    Very Good   814          154                0.0   \n",
       "1              4.4    Very Good  1203          161                0.0   \n",
       "2              4.2    Very Good   801          107                0.0   \n",
       "3              4.3    Very Good   693          157                0.0   \n",
       "4              4.9    Excellent   470          291                0.0   \n",
       "\n",
       "   delivery  takeaway  \n",
       "0        -1        -1  \n",
       "1        -1        -1  \n",
       "2         1        -1  \n",
       "3         1        -1  \n",
       "4         1        -1  \n",
       "\n",
       "[5 rows x 21 columns]"
      ]
     },
     "execution_count": 17,
     "metadata": {},
     "output_type": "execute_result"
    }
   ],
   "source": [
    "col=['res_id','name','zipcode','url','address']\n",
    "df=data.drop(col,axis=1)\n",
    "df.head()"
   ]
  },
  {
   "cell_type": "code",
   "execution_count": null,
   "metadata": {},
   "outputs": [],
   "source": [
    "df"
   ]
  },
  {
   "cell_type": "code",
   "execution_count": 18,
   "metadata": {},
   "outputs": [
    {
     "data": {
      "image/png": "[encoded data removed]",
      "text/plain": [
       "<Figure size 640x480 with 2 Axes>"
      ]
     },
     "metadata": {},
     "output_type": "display_data"
    }
   ],
   "source": [
    "sns.heatmap(df.isnull())\n",
    "plt.show()"
   ]
  },
  {
   "cell_type": "markdown",
   "metadata": {
    "papermill": {
     "duration": null,
     "end_time": null,
     "exception": null,
     "start_time": null,
     "status": "pending"
    },
    "tags": []
   },
   "source": [
    "6. <b>city</b> - Let's check unique cities"
   ]
  },
  {
   "cell_type": "code",
   "execution_count": 19,
   "metadata": {
    "execution": {
     "iopub.execute_input": "2023-01-17T09:31:11.526967Z",
     "iopub.status.busy": "2023-01-17T09:31:11.526168Z",
     "iopub.status.idle": "2023-01-17T09:31:11.541475Z",
     "shell.execute_reply": "2023-01-17T09:31:11.54025Z",
     "shell.execute_reply.started": "2023-01-17T09:31:11.526921Z"
    },
    "papermill": {
     "duration": null,
     "end_time": null,
     "exception": null,
     "start_time": null,
     "status": "pending"
    },
    "tags": []
   },
   "outputs": [
    {
     "data": {
      "text/plain": [
       "array(['Agra', 'Ahmedabad', 'Gandhinagar', 'Ajmer', 'Alappuzha',\n",
       "       'Allahabad', 'Amravati', 'Amritsar', 'Aurangabad', 'Bangalore',\n",
       "       'Bhopal', 'Bhubaneshwar', 'Chandigarh', 'Mohali', 'Panchkula',\n",
       "       'Zirakpur', 'Nayagaon', 'Chennai', 'Coimbatore', 'Cuttack',\n",
       "       'Darjeeling', 'Dehradun', 'New Delhi', 'Gurgaon', 'Noida',\n",
       "       'Faridabad', 'Ghaziabad', 'Greater Noida', 'Dharamshala',\n",
       "       'Gangtok', 'Goa', 'Gorakhpur', 'Guntur', 'Guwahati', 'Gwalior',\n",
       "       'Haridwar', 'Hyderabad', 'Secunderabad', 'Indore', 'Jabalpur',\n",
       "       'Jaipur', 'Jalandhar', 'Jammu', 'Jamnagar', 'Jamshedpur', 'Jhansi',\n",
       "       'Jodhpur', 'Junagadh', 'Kanpur', 'Kharagpur', 'Kochi', 'Kolhapur',\n",
       "       'Kolkata', 'Howrah', 'Kota', 'Lucknow', 'Ludhiana', 'Madurai',\n",
       "       'Manali', 'Mangalore', 'Manipal', 'Udupi', 'Meerut', 'Mumbai',\n",
       "       'Thane', 'Navi Mumbai', 'Mussoorie', 'Mysore', 'Nagpur',\n",
       "       'Nainital', 'Nasik', 'Nashik', 'Neemrana', 'Ooty', 'Palakkad',\n",
       "       'Patiala', 'Patna', 'Puducherry', 'Pune', 'Pushkar', 'Raipur',\n",
       "       'Rajkot', 'Ranchi', 'Rishikesh', 'Salem', 'Shimla', 'Siliguri',\n",
       "       'Srinagar', 'Surat', 'Thrissur', 'Tirupati', 'Trichy',\n",
       "       'Trivandrum', 'Udaipur', 'Varanasi', 'Vellore', 'Vijayawada',\n",
       "       'Vizag', 'Vadodara'], dtype=object)"
      ]
     },
     "execution_count": 19,
     "metadata": {},
     "output_type": "execute_result"
    }
   ],
   "source": [
    "data[\"city\"].unique()"
   ]
  },
  {
   "cell_type": "code",
   "execution_count": 20,
   "metadata": {
    "execution": {
     "iopub.execute_input": "2023-01-17T09:31:11.543741Z",
     "iopub.status.busy": "2023-01-17T09:31:11.54268Z",
     "iopub.status.idle": "2023-01-17T09:31:11.583471Z",
     "shell.execute_reply": "2023-01-17T09:31:11.582514Z",
     "shell.execute_reply.started": "2023-01-17T09:31:11.543704Z"
    },
    "papermill": {
     "duration": null,
     "end_time": null,
     "exception": null,
     "start_time": null,
     "status": "pending"
    },
    "tags": []
   },
   "outputs": [
    {
     "data": {
      "text/html": [
       "<div>\n",
       "<style scoped>\n",
       "    .dataframe tbody tr th:only-of-type {\n",
       "        vertical-align: middle;\n",
       "    }\n",
       "\n",
       "    .dataframe tbody tr th {\n",
       "        vertical-align: top;\n",
       "    }\n",
       "\n",
       "    .dataframe thead th {\n",
       "        text-align: right;\n",
       "    }\n",
       "</style>\n",
       "<table border=\"1\" class=\"dataframe\">\n",
       "  <thead>\n",
       "    <tr style=\"text-align: right;\">\n",
       "      <th></th>\n",
       "      <th>res_id</th>\n",
       "      <th>name</th>\n",
       "      <th>establishment</th>\n",
       "      <th>url</th>\n",
       "      <th>address</th>\n",
       "      <th>city</th>\n",
       "      <th>city_id</th>\n",
       "      <th>locality</th>\n",
       "      <th>latitude</th>\n",
       "      <th>longitude</th>\n",
       "      <th>...</th>\n",
       "      <th>price_range</th>\n",
       "      <th>currency</th>\n",
       "      <th>highlights</th>\n",
       "      <th>aggregate_rating</th>\n",
       "      <th>rating_text</th>\n",
       "      <th>votes</th>\n",
       "      <th>photo_count</th>\n",
       "      <th>opentable_support</th>\n",
       "      <th>delivery</th>\n",
       "      <th>takeaway</th>\n",
       "    </tr>\n",
       "  </thead>\n",
       "  <tbody>\n",
       "    <tr>\n",
       "      <th>82579</th>\n",
       "      <td>18746666</td>\n",
       "      <td>RH Chicken Point</td>\n",
       "      <td>['Quick Bites']</td>\n",
       "      <td>https://www.zomato.com/jabalpur/rh-chicken-poi...</td>\n",
       "      <td>Main Road, Sadar Bazaar, Cantt, Jabalpur</td>\n",
       "      <td>Jabalpur</td>\n",
       "      <td>11336</td>\n",
       "      <td>Cantt</td>\n",
       "      <td>23.154664</td>\n",
       "      <td>79.951015</td>\n",
       "      <td>...</td>\n",
       "      <td>2</td>\n",
       "      <td>Rs.</td>\n",
       "      <td>['Lunch', 'Delivery', 'Credit Card', 'No Alcoh...</td>\n",
       "      <td>4.5</td>\n",
       "      <td>Excellent</td>\n",
       "      <td>680</td>\n",
       "      <td>24</td>\n",
       "      <td>0.0</td>\n",
       "      <td>-1</td>\n",
       "      <td>-1</td>\n",
       "    </tr>\n",
       "    <tr>\n",
       "      <th>82580</th>\n",
       "      <td>18745503</td>\n",
       "      <td>Naidu's Dilli Ki Gali Parathe Wali</td>\n",
       "      <td>['Quick Bites']</td>\n",
       "      <td>https://www.zomato.com/jabalpur/naidus-dilli-k...</td>\n",
       "      <td>Near Mahakaushal Chamber Bhawan, Marhathal, Ci...</td>\n",
       "      <td>Jabalpur</td>\n",
       "      <td>11336</td>\n",
       "      <td>Napier Town</td>\n",
       "      <td>23.169057</td>\n",
       "      <td>79.933869</td>\n",
       "      <td>...</td>\n",
       "      <td>1</td>\n",
       "      <td>Rs.</td>\n",
       "      <td>['Lunch', 'Cash', 'Takeaway Available', 'No Al...</td>\n",
       "      <td>4.7</td>\n",
       "      <td>Excellent</td>\n",
       "      <td>355</td>\n",
       "      <td>14</td>\n",
       "      <td>0.0</td>\n",
       "      <td>1</td>\n",
       "      <td>-1</td>\n",
       "    </tr>\n",
       "    <tr>\n",
       "      <th>82581</th>\n",
       "      <td>18815413</td>\n",
       "      <td>Riyaz Hotel - 1953</td>\n",
       "      <td>['Quick Bites']</td>\n",
       "      <td>https://www.zomato.com/jabalpur/riyaz-hotel-19...</td>\n",
       "      <td>993, Badi Omti, Napier Town, Jabalpur</td>\n",
       "      <td>Jabalpur</td>\n",
       "      <td>11336</td>\n",
       "      <td>Napier Town</td>\n",
       "      <td>23.170673</td>\n",
       "      <td>79.937920</td>\n",
       "      <td>...</td>\n",
       "      <td>2</td>\n",
       "      <td>Rs.</td>\n",
       "      <td>['Lunch', 'Takeaway Available', 'No Alcohol Av...</td>\n",
       "      <td>4.2</td>\n",
       "      <td>Very Good</td>\n",
       "      <td>542</td>\n",
       "      <td>9</td>\n",
       "      <td>0.0</td>\n",
       "      <td>-1</td>\n",
       "      <td>-1</td>\n",
       "    </tr>\n",
       "    <tr>\n",
       "      <th>82582</th>\n",
       "      <td>18746285</td>\n",
       "      <td>Badkul Restaurant</td>\n",
       "      <td>['Casual Dining']</td>\n",
       "      <td>https://www.zomato.com/jabalpur/badkul-restaur...</td>\n",
       "      <td>103-105, Deendayal Chowk, Opposite ISBT, ITI R...</td>\n",
       "      <td>Jabalpur</td>\n",
       "      <td>11336</td>\n",
       "      <td>Vijay Nagar</td>\n",
       "      <td>23.193550</td>\n",
       "      <td>79.913353</td>\n",
       "      <td>...</td>\n",
       "      <td>2</td>\n",
       "      <td>Rs.</td>\n",
       "      <td>['No Alcohol Available', 'Dinner', 'Cash', 'Ta...</td>\n",
       "      <td>4.0</td>\n",
       "      <td>Very Good</td>\n",
       "      <td>451</td>\n",
       "      <td>19</td>\n",
       "      <td>0.0</td>\n",
       "      <td>1</td>\n",
       "      <td>-1</td>\n",
       "    </tr>\n",
       "    <tr>\n",
       "      <th>82583</th>\n",
       "      <td>18825615</td>\n",
       "      <td>Popular Fresh Momos And More</td>\n",
       "      <td>['Quick Bites']</td>\n",
       "      <td>https://www.zomato.com/jabalpur/popular-fresh-...</td>\n",
       "      <td>Home Science College Road, Napier Town, Jabalpur</td>\n",
       "      <td>Jabalpur</td>\n",
       "      <td>11336</td>\n",
       "      <td>Wright Town</td>\n",
       "      <td>23.160413</td>\n",
       "      <td>79.925240</td>\n",
       "      <td>...</td>\n",
       "      <td>2</td>\n",
       "      <td>Rs.</td>\n",
       "      <td>['Lunch', 'Cash', 'Takeaway Available', 'No Al...</td>\n",
       "      <td>4.1</td>\n",
       "      <td>Very Good</td>\n",
       "      <td>249</td>\n",
       "      <td>43</td>\n",
       "      <td>0.0</td>\n",
       "      <td>-1</td>\n",
       "      <td>-1</td>\n",
       "    </tr>\n",
       "    <tr>\n",
       "      <th>...</th>\n",
       "      <td>...</td>\n",
       "      <td>...</td>\n",
       "      <td>...</td>\n",
       "      <td>...</td>\n",
       "      <td>...</td>\n",
       "      <td>...</td>\n",
       "      <td>...</td>\n",
       "      <td>...</td>\n",
       "      <td>...</td>\n",
       "      <td>...</td>\n",
       "      <td>...</td>\n",
       "      <td>...</td>\n",
       "      <td>...</td>\n",
       "      <td>...</td>\n",
       "      <td>...</td>\n",
       "      <td>...</td>\n",
       "      <td>...</td>\n",
       "      <td>...</td>\n",
       "      <td>...</td>\n",
       "      <td>...</td>\n",
       "      <td>...</td>\n",
       "    </tr>\n",
       "    <tr>\n",
       "      <th>85087</th>\n",
       "      <td>18890729</td>\n",
       "      <td>Muskan Family Restaurant</td>\n",
       "      <td>['Casual Dining']</td>\n",
       "      <td>https://www.zomato.com/jabalpur/muskan-family-...</td>\n",
       "      <td>Civic Center, Near Bata Showroom, Marhataal, C...</td>\n",
       "      <td>Jabalpur</td>\n",
       "      <td>11336</td>\n",
       "      <td>Civil Lines</td>\n",
       "      <td>23.167616</td>\n",
       "      <td>79.932721</td>\n",
       "      <td>...</td>\n",
       "      <td>1</td>\n",
       "      <td>Rs.</td>\n",
       "      <td>['Dinner', 'Cash', 'Lunch', 'Takeaway Availabl...</td>\n",
       "      <td>0.0</td>\n",
       "      <td>Not rated</td>\n",
       "      <td>3</td>\n",
       "      <td>0</td>\n",
       "      <td>0.0</td>\n",
       "      <td>-1</td>\n",
       "      <td>-1</td>\n",
       "    </tr>\n",
       "    <tr>\n",
       "      <th>85088</th>\n",
       "      <td>18859783</td>\n",
       "      <td>Pawar's South Indian &amp; Chines Food</td>\n",
       "      <td>['Casual Dining']</td>\n",
       "      <td>https://www.zomato.com/jabalpur/pawars-south-i...</td>\n",
       "      <td>Shop No. 34, Ganjipura Chowk, Ganjipura, Jabal...</td>\n",
       "      <td>Jabalpur</td>\n",
       "      <td>11336</td>\n",
       "      <td>Cantt</td>\n",
       "      <td>23.173200</td>\n",
       "      <td>79.931319</td>\n",
       "      <td>...</td>\n",
       "      <td>1</td>\n",
       "      <td>Rs.</td>\n",
       "      <td>['Cash']</td>\n",
       "      <td>0.0</td>\n",
       "      <td>Not rated</td>\n",
       "      <td>2</td>\n",
       "      <td>0</td>\n",
       "      <td>0.0</td>\n",
       "      <td>-1</td>\n",
       "      <td>-1</td>\n",
       "    </tr>\n",
       "    <tr>\n",
       "      <th>85090</th>\n",
       "      <td>18859976</td>\n",
       "      <td>Swastik Restaurant</td>\n",
       "      <td>['Casual Dining']</td>\n",
       "      <td>https://www.zomato.com/jabalpur/swastik-restau...</td>\n",
       "      <td>C/O Hotel Swastik, Building No 333, Napier Tow...</td>\n",
       "      <td>Jabalpur</td>\n",
       "      <td>11336</td>\n",
       "      <td>Cantt</td>\n",
       "      <td>23.162786</td>\n",
       "      <td>79.936645</td>\n",
       "      <td>...</td>\n",
       "      <td>1</td>\n",
       "      <td>Rs.</td>\n",
       "      <td>['Cash', 'Credit Card', 'Debit Card']</td>\n",
       "      <td>0.0</td>\n",
       "      <td>Not rated</td>\n",
       "      <td>3</td>\n",
       "      <td>0</td>\n",
       "      <td>0.0</td>\n",
       "      <td>-1</td>\n",
       "      <td>-1</td>\n",
       "    </tr>\n",
       "    <tr>\n",
       "      <th>85091</th>\n",
       "      <td>18860323</td>\n",
       "      <td>Munna Yadav Bhojanalaya</td>\n",
       "      <td>['Casual Dining']</td>\n",
       "      <td>https://www.zomato.com/jabalpur/munna-yadav-bh...</td>\n",
       "      <td>In Front Of Hotel Ankit, South, Civil Lines, J...</td>\n",
       "      <td>Jabalpur</td>\n",
       "      <td>11336</td>\n",
       "      <td>Cantt</td>\n",
       "      <td>23.161508</td>\n",
       "      <td>79.948811</td>\n",
       "      <td>...</td>\n",
       "      <td>1</td>\n",
       "      <td>Rs.</td>\n",
       "      <td>['Cash']</td>\n",
       "      <td>0.0</td>\n",
       "      <td>Not rated</td>\n",
       "      <td>2</td>\n",
       "      <td>0</td>\n",
       "      <td>0.0</td>\n",
       "      <td>-1</td>\n",
       "      <td>-1</td>\n",
       "    </tr>\n",
       "    <tr>\n",
       "      <th>85092</th>\n",
       "      <td>18860522</td>\n",
       "      <td>Sai Chinese &amp; Momos</td>\n",
       "      <td>['Casual Dining']</td>\n",
       "      <td>https://www.zomato.com/jabalpur/sai-chinese-mo...</td>\n",
       "      <td>Jabalpur - 482001, Opposite Samdariya Mall, Ne...</td>\n",
       "      <td>Jabalpur</td>\n",
       "      <td>11336</td>\n",
       "      <td>Cantt</td>\n",
       "      <td>23.168537</td>\n",
       "      <td>79.933708</td>\n",
       "      <td>...</td>\n",
       "      <td>1</td>\n",
       "      <td>Rs.</td>\n",
       "      <td>['Cash']</td>\n",
       "      <td>0.0</td>\n",
       "      <td>Not rated</td>\n",
       "      <td>2</td>\n",
       "      <td>0</td>\n",
       "      <td>0.0</td>\n",
       "      <td>-1</td>\n",
       "      <td>-1</td>\n",
       "    </tr>\n",
       "  </tbody>\n",
       "</table>\n",
       "<p>534 rows × 26 columns</p>\n",
       "</div>"
      ],
      "text/plain": [
       "         res_id                                name      establishment  \\\n",
       "82579  18746666                    RH Chicken Point    ['Quick Bites']   \n",
       "82580  18745503  Naidu's Dilli Ki Gali Parathe Wali    ['Quick Bites']   \n",
       "82581  18815413                  Riyaz Hotel - 1953    ['Quick Bites']   \n",
       "82582  18746285                   Badkul Restaurant  ['Casual Dining']   \n",
       "82583  18825615        Popular Fresh Momos And More    ['Quick Bites']   \n",
       "...         ...                                 ...                ...   \n",
       "85087  18890729            Muskan Family Restaurant  ['Casual Dining']   \n",
       "85088  18859783  Pawar's South Indian & Chines Food  ['Casual Dining']   \n",
       "85090  18859976                  Swastik Restaurant  ['Casual Dining']   \n",
       "85091  18860323             Munna Yadav Bhojanalaya  ['Casual Dining']   \n",
       "85092  18860522                 Sai Chinese & Momos  ['Casual Dining']   \n",
       "\n",
       "                                                     url  \\\n",
       "82579  https://www.zomato.com/jabalpur/rh-chicken-poi...   \n",
       "82580  https://www.zomato.com/jabalpur/naidus-dilli-k...   \n",
       "82581  https://www.zomato.com/jabalpur/riyaz-hotel-19...   \n",
       "82582  https://www.zomato.com/jabalpur/badkul-restaur...   \n",
       "82583  https://www.zomato.com/jabalpur/popular-fresh-...   \n",
       "...                                                  ...   \n",
       "85087  https://www.zomato.com/jabalpur/muskan-family-...   \n",
       "85088  https://www.zomato.com/jabalpur/pawars-south-i...   \n",
       "85090  https://www.zomato.com/jabalpur/swastik-restau...   \n",
       "85091  https://www.zomato.com/jabalpur/munna-yadav-bh...   \n",
       "85092  https://www.zomato.com/jabalpur/sai-chinese-mo...   \n",
       "\n",
       "                                                 address      city  city_id  \\\n",
       "82579           Main Road, Sadar Bazaar, Cantt, Jabalpur  Jabalpur    11336   \n",
       "82580  Near Mahakaushal Chamber Bhawan, Marhathal, Ci...  Jabalpur    11336   \n",
       "82581              993, Badi Omti, Napier Town, Jabalpur  Jabalpur    11336   \n",
       "82582  103-105, Deendayal Chowk, Opposite ISBT, ITI R...  Jabalpur    11336   \n",
       "82583   Home Science College Road, Napier Town, Jabalpur  Jabalpur    11336   \n",
       "...                                                  ...       ...      ...   \n",
       "85087  Civic Center, Near Bata Showroom, Marhataal, C...  Jabalpur    11336   \n",
       "85088  Shop No. 34, Ganjipura Chowk, Ganjipura, Jabal...  Jabalpur    11336   \n",
       "85090  C/O Hotel Swastik, Building No 333, Napier Tow...  Jabalpur    11336   \n",
       "85091  In Front Of Hotel Ankit, South, Civil Lines, J...  Jabalpur    11336   \n",
       "85092  Jabalpur - 482001, Opposite Samdariya Mall, Ne...  Jabalpur    11336   \n",
       "\n",
       "          locality   latitude  longitude  ... price_range  currency  \\\n",
       "82579        Cantt  23.154664  79.951015  ...           2       Rs.   \n",
       "82580  Napier Town  23.169057  79.933869  ...           1       Rs.   \n",
       "82581  Napier Town  23.170673  79.937920  ...           2       Rs.   \n",
       "82582  Vijay Nagar  23.193550  79.913353  ...           2       Rs.   \n",
       "82583  Wright Town  23.160413  79.925240  ...           2       Rs.   \n",
       "...            ...        ...        ...  ...         ...       ...   \n",
       "85087  Civil Lines  23.167616  79.932721  ...           1       Rs.   \n",
       "85088        Cantt  23.173200  79.931319  ...           1       Rs.   \n",
       "85090        Cantt  23.162786  79.936645  ...           1       Rs.   \n",
       "85091        Cantt  23.161508  79.948811  ...           1       Rs.   \n",
       "85092        Cantt  23.168537  79.933708  ...           1       Rs.   \n",
       "\n",
       "                                              highlights aggregate_rating  \\\n",
       "82579  ['Lunch', 'Delivery', 'Credit Card', 'No Alcoh...              4.5   \n",
       "82580  ['Lunch', 'Cash', 'Takeaway Available', 'No Al...              4.7   \n",
       "82581  ['Lunch', 'Takeaway Available', 'No Alcohol Av...              4.2   \n",
       "82582  ['No Alcohol Available', 'Dinner', 'Cash', 'Ta...              4.0   \n",
       "82583  ['Lunch', 'Cash', 'Takeaway Available', 'No Al...              4.1   \n",
       "...                                                  ...              ...   \n",
       "85087  ['Dinner', 'Cash', 'Lunch', 'Takeaway Availabl...              0.0   \n",
       "85088                                           ['Cash']              0.0   \n",
       "85090              ['Cash', 'Credit Card', 'Debit Card']              0.0   \n",
       "85091                                           ['Cash']              0.0   \n",
       "85092                                           ['Cash']              0.0   \n",
       "\n",
       "      rating_text  votes  photo_count opentable_support delivery  takeaway  \n",
       "82579   Excellent    680           24               0.0       -1        -1  \n",
       "82580   Excellent    355           14               0.0        1        -1  \n",
       "82581   Very Good    542            9               0.0       -1        -1  \n",
       "82582   Very Good    451           19               0.0        1        -1  \n",
       "82583   Very Good    249           43               0.0       -1        -1  \n",
       "...           ...    ...          ...               ...      ...       ...  \n",
       "85087   Not rated      3            0               0.0       -1        -1  \n",
       "85088   Not rated      2            0               0.0       -1        -1  \n",
       "85090   Not rated      3            0               0.0       -1        -1  \n",
       "85091   Not rated      2            0               0.0       -1        -1  \n",
       "85092   Not rated      2            0               0.0       -1        -1  \n",
       "\n",
       "[534 rows x 26 columns]"
      ]
     },
     "execution_count": 20,
     "metadata": {},
     "output_type": "execute_result"
    }
   ],
   "source": [
    "data[data[\"city\"]==\"Jabalpur\"]"
   ]
  },
  {
   "cell_type": "markdown",
   "metadata": {
    "papermill": {
     "duration": null,
     "end_time": null,
     "exception": null,
     "start_time": null,
     "status": "pending"
    },
    "tags": []
   },
   "source": [
    "Look's good. \n",
    "\n",
    "7. <b>city_id</b> - We can uniquely use city name or id. So one feature is enough\n",
    "\n"
   ]
  },
  {
   "cell_type": "markdown",
   "metadata": {
    "papermill": {
     "duration": null,
     "end_time": null,
     "exception": null,
     "start_time": null,
     "status": "pending"
    },
    "tags": []
   },
   "source": [
    "8. <b>aggregate_rating</b> - Rating given to the restaurant\n",
    "9. <b>rating_text</b> - Characterisation of numeric rating into bins by using labels. We will be using direct ratings in our analysis, so we can ignore this.\n",
    "10. <b>votes</b> - Number of votes contributing to the rating\n",
    "11. <b>photo_count</b> - Photo uploads in reviews\n",
    "\n",
    "Let's check the mean and range of above features"
   ]
  },
  {
   "cell_type": "code",
   "execution_count": 21,
   "metadata": {
    "execution": {
     "iopub.execute_input": "2023-01-17T09:31:12.046785Z",
     "iopub.status.busy": "2023-01-17T09:31:12.045967Z",
     "iopub.status.idle": "2023-01-17T09:31:12.077239Z",
     "shell.execute_reply": "2023-01-17T09:31:12.075107Z",
     "shell.execute_reply.started": "2023-01-17T09:31:12.046739Z"
    },
    "papermill": {
     "duration": null,
     "end_time": null,
     "exception": null,
     "start_time": null,
     "status": "pending"
    },
    "tags": []
   },
   "outputs": [
    {
     "data": {
      "text/html": [
       "<div>\n",
       "<style scoped>\n",
       "    .dataframe tbody tr th:only-of-type {\n",
       "        vertical-align: middle;\n",
       "    }\n",
       "\n",
       "    .dataframe tbody tr th {\n",
       "        vertical-align: top;\n",
       "    }\n",
       "\n",
       "    .dataframe thead th {\n",
       "        text-align: right;\n",
       "    }\n",
       "</style>\n",
       "<table border=\"1\" class=\"dataframe\">\n",
       "  <thead>\n",
       "    <tr style=\"text-align: right;\">\n",
       "      <th></th>\n",
       "      <th>aggregate_rating</th>\n",
       "      <th>votes</th>\n",
       "      <th>photo_count</th>\n",
       "    </tr>\n",
       "  </thead>\n",
       "  <tbody>\n",
       "    <tr>\n",
       "      <th>mean</th>\n",
       "      <td>2.958593</td>\n",
       "      <td>223.330352</td>\n",
       "      <td>160.97477</td>\n",
       "    </tr>\n",
       "    <tr>\n",
       "      <th>min</th>\n",
       "      <td>0.000000</td>\n",
       "      <td>-18.000000</td>\n",
       "      <td>0.00000</td>\n",
       "    </tr>\n",
       "    <tr>\n",
       "      <th>max</th>\n",
       "      <td>4.900000</td>\n",
       "      <td>42539.000000</td>\n",
       "      <td>17702.00000</td>\n",
       "    </tr>\n",
       "  </tbody>\n",
       "</table>\n",
       "</div>"
      ],
      "text/plain": [
       "      aggregate_rating         votes  photo_count\n",
       "mean          2.958593    223.330352    160.97477\n",
       "min           0.000000    -18.000000      0.00000\n",
       "max           4.900000  42539.000000  17702.00000"
      ]
     },
     "execution_count": 21,
     "metadata": {},
     "output_type": "execute_result"
    }
   ],
   "source": [
    "data[[\"aggregate_rating\",\"votes\",\"photo_count\"]].describe().loc[[\"mean\",\"min\",\"max\"]]"
   ]
  },
  {
   "cell_type": "markdown",
   "metadata": {
    "papermill": {
     "duration": null,
     "end_time": null,
     "exception": null,
     "start_time": null,
     "status": "pending"
    },
    "tags": []
   },
   "source": [
    "Rating ranges between 0 and 5 while 42539 are the maximum votes given to a restaurant. The negative value in votes might be an outlier.\n",
    "12. <b>opentable_support</b> - Not useful since no restaurant has True value for this\n",
    "\n",
    "13. <b>delivery</b> - This feature has 3 classes but there is no explanation for those classes. We can consider -1 and 0 to be one class or ignore this feature for now\n",
    "\n",
    "14. <b>takeaway</b> - Again not useful since it only has one class"
   ]
  },
  {
   "cell_type": "markdown",
   "metadata": {
    "papermill": {
     "duration": null,
     "end_time": null,
     "exception": null,
     "start_time": null,
     "status": "pending"
    },
    "tags": []
   },
   "source": [
    "## Exploratory Data Analysis (EDA)\n",
    "### Restaurant chains\n",
    "Here chains represent restaurants with more than one outlet\n",
    "#### Chains vs Outlets"
   ]
  },
  {
   "cell_type": "code",
   "execution_count": 23,
   "metadata": {
    "execution": {
     "iopub.execute_input": "2023-01-17T09:31:12.130333Z",
     "iopub.status.busy": "2023-01-17T09:31:12.12959Z",
     "iopub.status.idle": "2023-01-17T09:31:12.16538Z",
     "shell.execute_reply": "2023-01-17T09:31:12.164142Z",
     "shell.execute_reply.started": "2023-01-17T09:31:12.130289Z"
    },
    "papermill": {
     "duration": null,
     "end_time": null,
     "exception": null,
     "start_time": null,
     "status": "pending"
    },
    "tags": []
   },
   "outputs": [],
   "source": [
    "outlets = data[\"name\"].value_counts()"
   ]
  },
  {
   "cell_type": "code",
   "execution_count": 24,
   "metadata": {
    "execution": {
     "iopub.execute_input": "2023-01-17T09:31:12.168177Z",
     "iopub.status.busy": "2023-01-17T09:31:12.167043Z",
     "iopub.status.idle": "2023-01-17T09:31:12.184913Z",
     "shell.execute_reply": "2023-01-17T09:31:12.183507Z",
     "shell.execute_reply.started": "2023-01-17T09:31:12.168127Z"
    },
    "papermill": {
     "duration": null,
     "end_time": null,
     "exception": null,
     "start_time": null,
     "status": "pending"
    },
    "tags": []
   },
   "outputs": [
    {
     "data": {
      "text/plain": [
       "name\n",
       "Domino's Pizza                           399\n",
       "Cafe Coffee Day                          315\n",
       "KFC                                      204\n",
       "Baskin Robbins                           202\n",
       "Keventers                                189\n",
       "                                        ... \n",
       "Boulevard 69                               1\n",
       "7-Eleven Restaurant                        1\n",
       "Food station                               1\n",
       "Silver Saloon - Taj Usha Kiran Palace      1\n",
       "Geeta lodge                                1\n",
       "Name: count, Length: 41100, dtype: int64"
      ]
     },
     "execution_count": 24,
     "metadata": {},
     "output_type": "execute_result"
    }
   ],
   "source": [
    "outlets"
   ]
  },
  {
   "cell_type": "code",
   "execution_count": 25,
   "metadata": {
    "execution": {
     "iopub.execute_input": "2023-01-17T09:31:12.187358Z",
     "iopub.status.busy": "2023-01-17T09:31:12.186623Z",
     "iopub.status.idle": "2023-01-17T09:31:12.200689Z",
     "shell.execute_reply": "2023-01-17T09:31:12.199394Z",
     "shell.execute_reply.started": "2023-01-17T09:31:12.187312Z"
    },
    "papermill": {
     "duration": null,
     "end_time": null,
     "exception": null,
     "start_time": null,
     "status": "pending"
    },
    "tags": []
   },
   "outputs": [],
   "source": [
    "chains = outlets[outlets >= 2]\n",
    "single = outlets[outlets == 1]"
   ]
  },
  {
   "cell_type": "code",
   "execution_count": 26,
   "metadata": {
    "execution": {
     "iopub.execute_input": "2023-01-17T09:31:12.206196Z",
     "iopub.status.busy": "2023-01-17T09:31:12.204852Z",
     "iopub.status.idle": "2023-01-17T09:31:12.214662Z",
     "shell.execute_reply": "2023-01-17T09:31:12.213296Z",
     "shell.execute_reply.started": "2023-01-17T09:31:12.206144Z"
    },
    "papermill": {
     "duration": null,
     "end_time": null,
     "exception": null,
     "start_time": null,
     "status": "pending"
    },
    "tags": []
   },
   "outputs": [
    {
     "data": {
      "text/plain": [
       "(55568, 26)"
      ]
     },
     "execution_count": 26,
     "metadata": {},
     "output_type": "execute_result"
    }
   ],
   "source": [
    "data.shape"
   ]
  },
  {
   "cell_type": "code",
   "execution_count": 27,
   "metadata": {
    "execution": {
     "iopub.execute_input": "2023-01-17T09:31:12.217372Z",
     "iopub.status.busy": "2023-01-17T09:31:12.216776Z",
     "iopub.status.idle": "2023-01-17T09:31:12.229224Z",
     "shell.execute_reply": "2023-01-17T09:31:12.228138Z",
     "shell.execute_reply.started": "2023-01-17T09:31:12.217322Z"
    },
    "papermill": {
     "duration": null,
     "end_time": null,
     "exception": null,
     "start_time": null,
     "status": "pending"
    },
    "tags": []
   },
   "outputs": [
    {
     "data": {
      "text/plain": [
       "name\n",
       "Domino's Pizza              399\n",
       "Cafe Coffee Day             315\n",
       "KFC                         204\n",
       "Baskin Robbins              202\n",
       "Keventers                   189\n",
       "                           ... \n",
       "Santoor Restaurant            2\n",
       "The Ice House                 2\n",
       "Zaatar Arabic Restaurant      2\n",
       "Ashok & Ashok Meat Dhaba      2\n",
       "Hotel Tara                    2\n",
       "Name: count, Length: 4890, dtype: int64"
      ]
     },
     "execution_count": 27,
     "metadata": {},
     "output_type": "execute_result"
    }
   ],
   "source": [
    "chains"
   ]
  },
  {
   "cell_type": "code",
   "execution_count": 28,
   "metadata": {
    "execution": {
     "iopub.execute_input": "2023-01-17T09:31:12.231282Z",
     "iopub.status.busy": "2023-01-17T09:31:12.230922Z",
     "iopub.status.idle": "2023-01-17T09:31:12.239739Z",
     "shell.execute_reply": "2023-01-17T09:31:12.238582Z",
     "shell.execute_reply.started": "2023-01-17T09:31:12.231249Z"
    },
    "papermill": {
     "duration": null,
     "end_time": null,
     "exception": null,
     "start_time": null,
     "status": "pending"
    },
    "tags": []
   },
   "outputs": [
    {
     "name": "stdout",
     "output_type": "stream",
     "text": [
      "Total Restaurants =  55568\n",
      "Total Restaurants that are part of some chain =  19358\n",
      "Percentage of Restaurants that are part of a chain =  35.0 %\n"
     ]
    }
   ],
   "source": [
    "print(\"Total Restaurants = \", df.shape[0])\n",
    "print(\"Total Restaurants that are part of some chain = \", df.shape[0] - single.shape[0])\n",
    "print(\"Percentage of Restaurants that are part of a chain = \", np.round((df.shape[0] - single.shape[0]) / df.shape[0],2)*100, \"%\")"
   ]
  },
  {
   "cell_type": "markdown",
   "metadata": {
    "papermill": {
     "duration": null,
     "end_time": null,
     "exception": null,
     "start_time": null,
     "status": "pending"
    },
    "tags": []
   },
   "source": [
    "<b>35%</b> of total restaurants are part of some kind of restaurant chain. Here, we should account for cases where two different retaurants might have exact same name but are not related to each other.\n",
    "#### Top restaurant chains (by number of outlets)\n",
    "Let's plot a horizontal bar graph to look at Top 10 restaurant chains. For the color scheme, we are using a list of pre-defined and selected colours to make the chart more appealing. If you want your analysis to look good visually, you should customize each and every element of your graph."
   ]
  },
  {
   "cell_type": "code",
   "execution_count": 29,
   "metadata": {
    "execution": {
     "iopub.execute_input": "2023-01-17T09:31:12.242228Z",
     "iopub.status.busy": "2023-01-17T09:31:12.24147Z",
     "iopub.status.idle": "2023-01-17T09:31:12.254502Z",
     "shell.execute_reply": "2023-01-17T09:31:12.253541Z",
     "shell.execute_reply.started": "2023-01-17T09:31:12.242193Z"
    },
    "papermill": {
     "duration": null,
     "end_time": null,
     "exception": null,
     "start_time": null,
     "status": "pending"
    },
    "tags": []
   },
   "outputs": [
    {
     "data": {
      "text/plain": [
       "name\n",
       "Domino's Pizza     399\n",
       "Cafe Coffee Day    315\n",
       "KFC                204\n",
       "Baskin Robbins     202\n",
       "Keventers          189\n",
       "Subway             178\n",
       "McDonald's         130\n",
       "Pizza Hut          125\n",
       "Barbeque Nation    112\n",
       "Burger King        110\n",
       "Name: count, dtype: int64"
      ]
     },
     "execution_count": 29,
     "metadata": {},
     "output_type": "execute_result"
    }
   ],
   "source": [
    "chains.head(10)"
   ]
  },
  {
   "cell_type": "code",
   "execution_count": 30,
   "metadata": {
    "execution": {
     "iopub.execute_input": "2023-01-17T09:31:12.256392Z",
     "iopub.status.busy": "2023-01-17T09:31:12.256055Z",
     "iopub.status.idle": "2023-01-17T09:31:12.288617Z",
     "shell.execute_reply": "2023-01-17T09:31:12.287274Z",
     "shell.execute_reply.started": "2023-01-17T09:31:12.256361Z"
    },
    "papermill": {
     "duration": null,
     "end_time": null,
     "exception": null,
     "start_time": null,
     "status": "pending"
    },
    "tags": []
   },
   "outputs": [],
   "source": [
    "top10_chains = data[\"name\"].value_counts()[:10].sort_values(ascending=True)"
   ]
  },
  {
   "cell_type": "code",
   "execution_count": 31,
   "metadata": {
    "execution": {
     "iopub.execute_input": "2023-01-17T09:31:12.290696Z",
     "iopub.status.busy": "2023-01-17T09:31:12.290296Z",
     "iopub.status.idle": "2023-01-17T09:31:12.590292Z",
     "shell.execute_reply": "2023-01-17T09:31:12.588895Z",
     "shell.execute_reply.started": "2023-01-17T09:31:12.290655Z"
    },
    "papermill": {
     "duration": null,
     "end_time": null,
     "exception": null,
     "start_time": null,
     "status": "pending"
    },
    "tags": []
   },
   "outputs": [
    {
     "data": {
      "image/png": "[encoded data removed]",
      "text/plain": [
       "<Figure size 1100x700 with 1 Axes>"
      ]
     },
     "metadata": {},
     "output_type": "display_data"
    }
   ],
   "source": [
    "height = top10_chains.values\n",
    "bars = top10_chains.index\n",
    "y_pos = np.arange(len(bars))\n",
    "\n",
    "fig = plt.figure(figsize=[11,7], frameon=False)\n",
    "ax = fig.gca()\n",
    "\n",
    "#colors = [\"green\",\"blue\",\"magenta\",\"cyan\",\"gray\",\"yellow\",\"purple\",\"violet\",\"orange\",\"red\",\"maroon\"]\n",
    "#random.shuffle(colors)\n",
    "colors = [\"#f9cdac\",\"#f2a49f\",\"#ec7c92\",\"#e65586\",\"#bc438b\",\"#933291\",\"#692398\",\"#551c7b\",\"#41155e\",\"#2d0f41\"]\n",
    "plt.barh(y_pos, height, color=colors)\n",
    " \n",
    "plt.xticks(color=\"#424242\")\n",
    "\n",
    "plt.yticks(y_pos, bars, color=\"#424242\")\n",
    "plt.xlabel(\"Number of outlets in India\")\n",
    "\n",
    "for i, v in enumerate(height):\n",
    "    ax.text(v+3, i, str(v), color='#424242')\n",
    "plt.title(\"Top 10 Restaurant chain in India (by number of outlets)\")\n",
    "\n",
    "\n",
    "plt.show()"
   ]
  },
  {
   "cell_type": "markdown",
   "metadata": {
    "papermill": {
     "duration": null,
     "end_time": null,
     "exception": null,
     "start_time": null,
     "status": "pending"
    },
    "tags": []
   },
   "source": [
    "This chart is majorly dominaed by big fast food chains\n",
    "#### Top restaurant chains (by average rating)\n",
    "Here we will look at top chains by their ratings. I have set the criteria of number of outlets to greater than 4 to remove some outliers."
   ]
  },
  {
   "cell_type": "markdown",
   "metadata": {
    "papermill": {
     "duration": null,
     "end_time": null,
     "exception": null,
     "start_time": null,
     "status": "pending"
    },
    "tags": []
   },
   "source": [
    "Interestingly, no fast food chain appears in this chart. To maintain a high rating, restaurants needs to provide superior service which becomes impossible with booming fast food restaurant in every street.\n",
    "\n",
    "### Establishment Types\n",
    "#### Number of restaurants (by establishment type)"
   ]
  },
  {
   "cell_type": "code",
   "execution_count": 32,
   "metadata": {
    "execution": {
     "iopub.execute_input": "2023-01-17T09:31:12.943891Z",
     "iopub.status.busy": "2023-01-17T09:31:12.943422Z",
     "iopub.status.idle": "2023-01-17T09:31:13.164828Z",
     "shell.execute_reply": "2023-01-17T09:31:13.163587Z",
     "shell.execute_reply.started": "2023-01-17T09:31:12.943857Z"
    },
    "papermill": {
     "duration": null,
     "end_time": null,
     "exception": null,
     "start_time": null,
     "status": "pending"
    },
    "tags": []
   },
   "outputs": [
    {
     "data": {
      "image/png": "[encoded data removed]",
      "text/plain": [
       "<Figure size 800x500 with 1 Axes>"
      ]
     },
     "metadata": {},
     "output_type": "display_data"
    }
   ],
   "source": [
    "\n",
    "est_count = data.groupby(\"establishment\").count()[\"res_id\"].sort_values(ascending=False)[:5]\n",
    "\n",
    "fig = plt.figure(figsize=[8,5], frameon=False)\n",
    "ax = fig.gca()\n",
    "\n",
    "\n",
    "#colors = [\"green\",\"blue\",\"magenta\",\"cyan\",\"gray\",\"yellow\",\"purple\",\"violet\",\"orange\",\"red\",\"maroon\"]\n",
    "#random.shuffle(colors)\n",
    "colors = [\"#2d0f41\",'#933291',\"#e65586\",\"#f2a49f\",\"#f9cdac\"]\n",
    "plt.bar(est_count.index, est_count.values, color=colors)\n",
    "\n",
    "plt.xticks(range(0, 6), color=\"#424242\")\n",
    "plt.yticks(range(0, 25000, 5000), color=\"#424242\")\n",
    "plt.xlabel(\"Top 5 establishment types\")\n",
    "\n",
    "for i, v in enumerate(est_count):\n",
    "    ax.text(i-0.2, v+500, str(v), color='#424242')\n",
    "plt.title(\"Number of restaurants (by establishment type)\")\n",
    "\n",
    "\n",
    "plt.show()"
   ]
  },
  {
   "cell_type": "markdown",
   "metadata": {
    "papermill": {
     "duration": null,
     "end_time": null,
     "exception": null,
     "start_time": null,
     "status": "pending"
    },
    "tags": []
   },
   "source": [
    "Top 3 represents more casual and quick service restaurants, then from 4-6 we have dessert based shops.\n"
   ]
  },
  {
   "cell_type": "markdown",
   "metadata": {
    "papermill": {
     "duration": null,
     "end_time": null,
     "exception": null,
     "start_time": null,
     "status": "pending"
    },
    "tags": []
   },
   "source": [
    "\n",
    "### Cities\n",
    "#### Number of restaurants (by city)"
   ]
  },
  {
   "cell_type": "code",
   "execution_count": 33,
   "metadata": {
    "execution": {
     "iopub.execute_input": "2023-01-17T09:31:13.306706Z",
     "iopub.status.busy": "2023-01-17T09:31:13.306014Z",
     "iopub.status.idle": "2023-01-17T09:31:13.672074Z",
     "shell.execute_reply": "2023-01-17T09:31:13.671121Z",
     "shell.execute_reply.started": "2023-01-17T09:31:13.306658Z"
    },
    "papermill": {
     "duration": null,
     "end_time": null,
     "exception": null,
     "start_time": null,
     "status": "pending"
    },
    "tags": []
   },
   "outputs": [
    {
     "data": {
      "image/png": "[encoded data removed]",
      "text/plain": [
       "<Figure size 1100x700 with 1 Axes>"
      ]
     },
     "metadata": {},
     "output_type": "display_data"
    }
   ],
   "source": [
    "height = top10_chains.values\n",
    "bars = top10_chains.index\n",
    "city_counts = data.groupby(\"city\").count()[\"res_id\"].sort_values(ascending=True)[-10:]\n",
    "\n",
    "y_pos = np.arange(len(bars))\n",
    "\n",
    "fig = plt.figure(figsize=[11,7], frameon=False)\n",
    "ax = fig.gca()\n",
    "\n",
    "\n",
    "#colors = [\"green\",\"blue\",\"magenta\",\"cyan\",\"gray\",\"yellow\",\"purple\",\"violet\",\"orange\",\"red\",\"maroon\"]\n",
    "#random.shuffle(colors)\n",
    "colors = ['#dcecc9', '#aadacc', '#78c6d0', '#48b3d3', '#3e94c0', '#3474ac', '#2a5599', '#203686', '#18216b', '#11174b']\n",
    "plt.barh(y_pos, height, color=colors)\n",
    "\n",
    "plt.xlim(3)\n",
    "plt.xticks(color=\"#424242\")\n",
    "plt.yticks(y_pos, bars, color=\"#424242\")\n",
    "plt.xlabel(\"Number of outlets\")\n",
    "\n",
    "for i, v in enumerate(height):\n",
    "    ax.text(v + 20, i, str(v), color='#424242')\n",
    "plt.title(\"Number of restaurants (by city)\")\n",
    "\n",
    "\n",
    "plt.show()"
   ]
  },
  {
   "cell_type": "markdown",
   "metadata": {
    "papermill": {
     "duration": null,
     "end_time": null,
     "exception": null,
     "start_time": null,
     "status": "pending"
    },
    "tags": []
   },
   "source": [
    "Bangalore has highest rated restaurants whereas Hyderabad has more number of critics. Mumbai and New Delhi dominates for most photo uploads per outlet.\n",
    "\n",
    "### Cuisine\n",
    "#### Unique cuisines"
   ]
  },
  {
   "cell_type": "code",
   "execution_count": 34,
   "metadata": {
    "execution": {
     "iopub.execute_input": "2023-01-17T09:31:13.794132Z",
     "iopub.status.busy": "2023-01-17T09:31:13.79375Z",
     "iopub.status.idle": "2023-01-17T09:31:13.810871Z",
     "shell.execute_reply": "2023-01-17T09:31:13.809433Z",
     "shell.execute_reply.started": "2023-01-17T09:31:13.794098Z"
    },
    "papermill": {
     "duration": null,
     "end_time": null,
     "exception": null,
     "start_time": null,
     "status": "pending"
    },
    "tags": []
   },
   "outputs": [
    {
     "name": "stdout",
     "output_type": "stream",
     "text": [
      "Total number of unique cuisines =  9382\n"
     ]
    }
   ],
   "source": [
    "print(\"Total number of unique cuisines = \", data['cuisines'].nunique())"
   ]
  },
  {
   "cell_type": "markdown",
   "metadata": {
    "papermill": {
     "duration": null,
     "end_time": null,
     "exception": null,
     "start_time": null,
     "status": "pending"
    },
    "tags": []
   },
   "source": [
    "#### Number of restaurants (by cuisine)"
   ]
  },
  {
   "cell_type": "code",
   "execution_count": 35,
   "metadata": {
    "execution": {
     "iopub.execute_input": "2023-01-17T09:31:13.81365Z",
     "iopub.status.busy": "2023-01-17T09:31:13.812567Z",
     "iopub.status.idle": "2023-01-17T09:31:13.996436Z",
     "shell.execute_reply": "2023-01-17T09:31:13.995084Z",
     "shell.execute_reply.started": "2023-01-17T09:31:13.813589Z"
    },
    "papermill": {
     "duration": null,
     "end_time": null,
     "exception": null,
     "start_time": null,
     "status": "pending"
    },
    "tags": []
   },
   "outputs": [
    {
     "data": {
      "image/png": "[encoded data removed]",
      "text/plain": [
       "<Figure size 800x500 with 1 Axes>"
      ]
     },
     "metadata": {},
     "output_type": "display_data"
    }
   ],
   "source": [
    "\n",
    "c_count = data['cuisines'].value_counts()[:5]\n",
    "\n",
    "fig = plt.figure(figsize=[8,5], frameon=False)\n",
    "ax = fig.gca()\n",
    "\n",
    "\n",
    "#colors = [\"green\",\"blue\",\"magenta\",\"cyan\",\"gray\",\"yellow\",\"purple\",\"violet\",\"orange\",\"red\",\"maroon\"]\n",
    "#random.shuffle(colors)\n",
    "colors = ['#4c3430', '#b04829', '#ec8c41', '#f7c65d','#fded86']\n",
    "plt.bar(c_count.index, c_count.values, color=colors)\n",
    "\n",
    "plt.xticks(range(0, 6), color=\"#424242\")\n",
    "plt.yticks(range(0, 30000, 5000), color=\"#424242\")\n",
    "plt.xlabel(\"Top 5 cuisines\")\n",
    "\n",
    "for i, v in enumerate(c_count):\n",
    "    ax.text(i-0.2, v+500, str(v), color='#424242')\n",
    "plt.title(\"Number of restaurants (by cuisine type)\")\n",
    "\n",
    "\n",
    "plt.show()"
   ]
  },
  {
   "cell_type": "markdown",
   "metadata": {
    "papermill": {
     "duration": null,
     "end_time": null,
     "exception": null,
     "start_time": null,
     "status": "pending"
    },
    "tags": []
   },
   "source": [
    "Surprisingly, Chinese food comes 3rd in the list of cuisines that Indians prefer, even more than fast food, desserts and South Indian food.\n"
   ]
  },
  {
   "cell_type": "markdown",
   "metadata": {
    "papermill": {
     "duration": null,
     "end_time": null,
     "exception": null,
     "start_time": null,
     "status": "pending"
    },
    "tags": []
   },
   "source": [
    "We can ignore a few cuisines in this list since they are available in less number. But the overall conclusion which can be drawn is that International (and rarely available) cuisines are rated higher than local cuisines."
   ]
  },
  {
   "cell_type": "code",
   "execution_count": 36,
   "metadata": {
    "execution": {
     "iopub.execute_input": "2023-01-17T09:33:18.25512Z",
     "iopub.status.busy": "2023-01-17T09:33:18.25448Z",
     "iopub.status.idle": "2023-01-17T09:33:18.670737Z",
     "shell.execute_reply": "2023-01-17T09:33:18.669799Z",
     "shell.execute_reply.started": "2023-01-17T09:33:18.255085Z"
    },
    "papermill": {
     "duration": null,
     "end_time": null,
     "exception": null,
     "start_time": null,
     "status": "pending"
    },
    "tags": []
   },
   "outputs": [
    {
     "name": "stderr",
     "output_type": "stream",
     "text": [
      "C:\\Users\\Anchal\\AppData\\Local\\Temp\\ipykernel_25680\\2259594370.py:1: FutureWarning: \n",
      "\n",
      "`shade` is now deprecated in favor of `fill`; setting `fill=True`.\n",
      "This will become an error in seaborn v0.14.0; please update your code.\n",
      "\n",
      "  sns.kdeplot(data['aggregate_rating'], shade=True)\n"
     ]
    },
    {
     "data": {
      "image/png": "[encoded data removed]",
      "text/plain": [
       "<Figure size 640x480 with 1 Axes>"
      ]
     },
     "metadata": {},
     "output_type": "display_data"
    }
   ],
   "source": [
    "sns.kdeplot(data['aggregate_rating'], shade=True)\n",
    "plt.title(\"Ratings distribution\")\n",
    "plt.show()"
   ]
  },
  {
   "cell_type": "markdown",
   "metadata": {
    "papermill": {
     "duration": null,
     "end_time": null,
     "exception": null,
     "start_time": null,
     "status": "pending"
    },
    "tags": []
   },
   "source": [
    "There is a huge spike at 0 which might account for newly opened or unrated restaurants. On average, majority of restaurants have rating between 3 to 4 with fewer restaurants managing to go beyond 4.\n",
    "#### Avergae cost for two distribution"
   ]
  },
  {
   "cell_type": "code",
   "execution_count": 37,
   "metadata": {
    "execution": {
     "iopub.execute_input": "2023-01-17T09:33:18.672787Z",
     "iopub.status.busy": "2023-01-17T09:33:18.672212Z",
     "iopub.status.idle": "2023-01-17T09:33:19.131687Z",
     "shell.execute_reply": "2023-01-17T09:33:19.13077Z",
     "shell.execute_reply.started": "2023-01-17T09:33:18.67275Z"
    },
    "papermill": {
     "duration": null,
     "end_time": null,
     "exception": null,
     "start_time": null,
     "status": "pending"
    },
    "tags": []
   },
   "outputs": [
    {
     "name": "stderr",
     "output_type": "stream",
     "text": [
      "C:\\Users\\Anchal\\AppData\\Local\\Temp\\ipykernel_25680\\3483524634.py:1: FutureWarning: \n",
      "\n",
      "`shade` is now deprecated in favor of `fill`; setting `fill=True`.\n",
      "This will become an error in seaborn v0.14.0; please update your code.\n",
      "\n",
      "  sns.kdeplot(data['average_cost_for_two'], shade=True)\n"
     ]
    },
    {
     "data": {
      "image/png": "[encoded data removed]",
      "text/plain": [
       "<Figure size 640x480 with 1 Axes>"
      ]
     },
     "metadata": {},
     "output_type": "display_data"
    }
   ],
   "source": [
    "sns.kdeplot(data['average_cost_for_two'], shade=True)\n",
    "plt.title(\"Average cost for 2 distribution\")\n",
    "plt.show()"
   ]
  },
  {
   "cell_type": "markdown",
   "metadata": {
    "papermill": {
     "duration": null,
     "end_time": null,
     "exception": null,
     "start_time": null,
     "status": "pending"
    },
    "tags": []
   },
   "source": [
    "With few restaurants charging average of Rs.25000+ for two, this graph is extremely skewed. Let's take a closer look at a lower range of 0 to 60000."
   ]
  },
  {
   "cell_type": "code",
   "execution_count": 38,
   "metadata": {
    "execution": {
     "iopub.execute_input": "2023-01-17T09:33:19.133649Z",
     "iopub.status.busy": "2023-01-17T09:33:19.133083Z",
     "iopub.status.idle": "2023-01-17T09:33:19.607617Z",
     "shell.execute_reply": "2023-01-17T09:33:19.606781Z",
     "shell.execute_reply.started": "2023-01-17T09:33:19.133614Z"
    },
    "papermill": {
     "duration": null,
     "end_time": null,
     "exception": null,
     "start_time": null,
     "status": "pending"
    },
    "tags": []
   },
   "outputs": [
    {
     "name": "stderr",
     "output_type": "stream",
     "text": [
      "C:\\Users\\Anchal\\AppData\\Local\\Temp\\ipykernel_25680\\1606474467.py:1: FutureWarning: \n",
      "\n",
      "`shade` is now deprecated in favor of `fill`; setting `fill=True`.\n",
      "This will become an error in seaborn v0.14.0; please update your code.\n",
      "\n",
      "  sns.kdeplot(data['average_cost_for_two'], shade=True)\n"
     ]
    },
    {
     "data": {
      "image/png": "[encoded data removed]",
      "text/plain": [
       "<Figure size 640x480 with 1 Axes>"
      ]
     },
     "metadata": {},
     "output_type": "display_data"
    }
   ],
   "source": [
    "sns.kdeplot(data['average_cost_for_two'], shade=True)\n",
    "plt.xlim([0, 6000])\n",
    "plt.xticks(range(0,6000,500))\n",
    "plt.title(\"Average cost for 2 distribution\")\n",
    "plt.show()"
   ]
  },
  {
   "cell_type": "markdown",
   "metadata": {
    "papermill": {
     "duration": null,
     "end_time": null,
     "exception": null,
     "start_time": null,
     "status": "pending"
    },
    "tags": []
   },
   "source": [
    "Majority of restaurants are budget friendly with an average cost between Rs.250 to Rs.800 for two.\n",
    "\n",
    "#### Price range count"
   ]
  },
  {
   "cell_type": "code",
   "execution_count": 39,
   "metadata": {
    "execution": {
     "iopub.execute_input": "2023-01-17T09:33:19.60971Z",
     "iopub.status.busy": "2023-01-17T09:33:19.609121Z",
     "iopub.status.idle": "2023-01-17T09:33:19.839201Z",
     "shell.execute_reply": "2023-01-17T09:33:19.837901Z",
     "shell.execute_reply.started": "2023-01-17T09:33:19.609666Z"
    },
    "papermill": {
     "duration": null,
     "end_time": null,
     "exception": null,
     "start_time": null,
     "status": "pending"
    },
    "tags": []
   },
   "outputs": [
    {
     "data": {
      "image/png": "[encoded data removed]",
      "text/plain": [
       "<Figure size 800x500 with 1 Axes>"
      ]
     },
     "metadata": {},
     "output_type": "display_data"
    }
   ],
   "source": [
    "pr_count = data.groupby(\"price_range\").count()[\"name\"]\n",
    "\n",
    "fig = plt.figure(figsize=[8,5], frameon=False)\n",
    "ax = fig.gca()\n",
    "\n",
    "#colors = [\"green\",\"blue\",\"magenta\",\"cyan\",\"gray\",\"yellow\",\"purple\",\"violet\",\"orange\",\"red\",\"maroon\"]\n",
    "#random.shuffle(colors)\n",
    "colors = [\"#2d0f41\",'#933291',\"#f2a49f\",\"#f9cdac\"]\n",
    "plt.bar(pr_count.index, pr_count.values, color=colors)\n",
    "\n",
    "plt.xticks(range(0, 5), color=\"#424242\")\n",
    "plt.yticks(range(0, 40000, 5000), color=\"#424242\")\n",
    "plt.xlabel(\"Price Ranges\")\n",
    "\n",
    "for i, v in enumerate(pr_count):\n",
    "    ax.text(i+0.85, v+700, str(v), color='#424242')\n",
    "plt.title(\"Number of restaurants (by price ranges)\")\n",
    "\n",
    "\n",
    "plt.show()"
   ]
  },
  {
   "cell_type": "markdown",
   "metadata": {
    "papermill": {
     "duration": null,
     "end_time": null,
     "exception": null,
     "start_time": null,
     "status": "pending"
    },
    "tags": []
   },
   "source": [
    "Price range chart supports our previous observation from the Average cost chart. Number of restaurant decreases with increase in price range.\n",
    "\n",
    "#### Relation between Average price for two and Rating"
   ]
  },
  {
   "cell_type": "code",
   "execution_count": 40,
   "metadata": {
    "execution": {
     "iopub.execute_input": "2023-01-17T09:33:19.841948Z",
     "iopub.status.busy": "2023-01-17T09:33:19.841153Z",
     "iopub.status.idle": "2023-01-17T09:33:19.857314Z",
     "shell.execute_reply": "2023-01-17T09:33:19.856017Z",
     "shell.execute_reply.started": "2023-01-17T09:33:19.841895Z"
    },
    "papermill": {
     "duration": null,
     "end_time": null,
     "exception": null,
     "start_time": null,
     "status": "pending"
    },
    "tags": []
   },
   "outputs": [
    {
     "data": {
      "text/plain": [
       "0.25"
      ]
     },
     "execution_count": 40,
     "metadata": {},
     "output_type": "execute_result"
    }
   ],
   "source": [
    "np.round(data[[\"average_cost_for_two\",\"aggregate_rating\"]].corr()[\"average_cost_for_two\"][1],2)"
   ]
  },
  {
   "cell_type": "markdown",
   "metadata": {
    "papermill": {
     "duration": null,
     "end_time": null,
     "exception": null,
     "start_time": null,
     "status": "pending"
    },
    "tags": []
   },
   "source": [
    "A correlation can be seen between restaurant average cost and rating"
   ]
  },
  {
   "cell_type": "code",
   "execution_count": 41,
   "metadata": {
    "execution": {
     "iopub.execute_input": "2023-01-17T09:33:19.861049Z",
     "iopub.status.busy": "2023-01-17T09:33:19.860041Z",
     "iopub.status.idle": "2023-01-17T09:33:20.148517Z",
     "shell.execute_reply": "2023-01-17T09:33:20.147302Z",
     "shell.execute_reply.started": "2023-01-17T09:33:19.860993Z"
    },
    "papermill": {
     "duration": null,
     "end_time": null,
     "exception": null,
     "start_time": null,
     "status": "pending"
    },
    "tags": []
   },
   "outputs": [
    {
     "data": {
      "image/png": "[encoded data removed]",
      "text/plain": [
       "<Figure size 640x480 with 1 Axes>"
      ]
     },
     "metadata": {},
     "output_type": "display_data"
    }
   ],
   "source": [
    "plt.plot(\"average_cost_for_two\",\"aggregate_rating\", data=data, linestyle=\"none\", marker=\"o\")\n",
    "plt.xlim([0,6000])\n",
    "plt.title(\"Relationship between Average cost and Rating\")\n",
    "plt.xlabel(\"Average cost for two\")\n",
    "plt.ylabel(\"Ratings\")\n",
    "plt.show()"
   ]
  },
  {
   "cell_type": "markdown",
   "metadata": {
    "papermill": {
     "duration": null,
     "end_time": null,
     "exception": null,
     "start_time": null,
     "status": "pending"
    },
    "tags": []
   },
   "source": [
    "There is definetely a direct relation between the two. Let's take a smaller sample to draw a clearer scatter plot."
   ]
  },
  {
   "cell_type": "code",
   "execution_count": 42,
   "metadata": {
    "execution": {
     "iopub.execute_input": "2023-01-17T09:33:20.150537Z",
     "iopub.status.busy": "2023-01-17T09:33:20.150139Z",
     "iopub.status.idle": "2023-01-17T09:33:20.329326Z",
     "shell.execute_reply": "2023-01-17T09:33:20.328004Z",
     "shell.execute_reply.started": "2023-01-17T09:33:20.150493Z"
    },
    "papermill": {
     "duration": null,
     "end_time": null,
     "exception": null,
     "start_time": null,
     "status": "pending"
    },
    "tags": []
   },
   "outputs": [
    {
     "data": {
      "image/png": "[encoded data removed]",
      "text/plain": [
       "<Figure size 640x480 with 1 Axes>"
      ]
     },
     "metadata": {},
     "output_type": "display_data"
    }
   ],
   "source": [
    "plt.plot(\"average_cost_for_two\",\"aggregate_rating\", data=data.sample(1000), linestyle=\"none\", marker=\"o\")\n",
    "plt.xlim([0,3000])\n",
    "plt.show()"
   ]
  },
  {
   "cell_type": "markdown",
   "metadata": {
    "papermill": {
     "duration": null,
     "end_time": null,
     "exception": null,
     "start_time": null,
     "status": "pending"
    },
    "tags": []
   },
   "source": [
    "This relation concludes that that as average cost for two increases, there is a better chance that the restaurant will be rated highly. Let's look at price range for a better comparison.\n",
    "\n",
    "#### Relation between Price range and Rating"
   ]
  },
  {
   "cell_type": "code",
   "execution_count": 43,
   "metadata": {
    "execution": {
     "iopub.execute_input": "2023-01-17T09:33:20.331987Z",
     "iopub.status.busy": "2023-01-17T09:33:20.331122Z",
     "iopub.status.idle": "2023-01-17T09:33:20.346015Z",
     "shell.execute_reply": "2023-01-17T09:33:20.344586Z",
     "shell.execute_reply.started": "2023-01-17T09:33:20.331941Z"
    },
    "papermill": {
     "duration": null,
     "end_time": null,
     "exception": null,
     "start_time": null,
     "status": "pending"
    },
    "tags": []
   },
   "outputs": [
    {
     "data": {
      "text/plain": [
       "0.25"
      ]
     },
     "execution_count": 43,
     "metadata": {},
     "output_type": "execute_result"
    }
   ],
   "source": [
    "np.round(data[[\"price_range\",\"aggregate_rating\"]].corr()[\"price_range\"][1],2)"
   ]
  },
  {
   "cell_type": "code",
   "execution_count": 44,
   "metadata": {
    "execution": {
     "iopub.execute_input": "2023-01-17T09:33:20.348318Z",
     "iopub.status.busy": "2023-01-17T09:33:20.347829Z",
     "iopub.status.idle": "2023-01-17T09:33:20.576752Z",
     "shell.execute_reply": "2023-01-17T09:33:20.575568Z",
     "shell.execute_reply.started": "2023-01-17T09:33:20.348272Z"
    },
    "papermill": {
     "duration": null,
     "end_time": null,
     "exception": null,
     "start_time": null,
     "status": "pending"
    },
    "tags": []
   },
   "outputs": [
    {
     "data": {
      "image/png": "[encoded data removed]",
      "text/plain": [
       "<Figure size 640x480 with 1 Axes>"
      ]
     },
     "metadata": {},
     "output_type": "display_data"
    }
   ],
   "source": [
    "sns.boxplot(x='price_range', y='aggregate_rating', data=data)\n",
    "plt.ylim(1)\n",
    "plt.title(\"Relationship between Price range and Ratings\")\n",
    "plt.show()"
   ]
  },
  {
   "cell_type": "markdown",
   "metadata": {
    "papermill": {
     "duration": null,
     "end_time": null,
     "exception": null,
     "start_time": null,
     "status": "pending"
    },
    "tags": []
   },
   "source": [
    "Now, it is clear. The higher the price a restaurant charges, more services they provide and hence more chances of getting good ratings from their customers."
   ]
  },
  {
   "cell_type": "markdown",
   "metadata": {
    "papermill": {
     "duration": null,
     "end_time": null,
     "exception": null,
     "start_time": null,
     "status": "pending"
    },
    "tags": []
   },
   "source": [
    "## Conclusions\n",
    "\n",
    "After working on this data, we can conclude the following things:-\n",
    "1. Approx. 35% of restaurants in India are part of some chain\n",
    "2. Domino's Pizza, Cafe Coffee Day, KFC are the biggest fast food chains in the country with most number of outlets\n",
    "3. Barbecues and Grill food chains have highest average ratings than other type of restaurants \n",
    "4. Quick bites and casual dining type of establishment have most number of outlets\n",
    "5. Establishments with alcohol availability have highest average ratings, votes and photo uploads\n",
    "6. Banglore has most number of restaurants \n",
    "7. Gurgaon has highest rated restaurants (average 3.83) whereas Hyderabad has more number of critics (votes). Mumbai and New Delhi dominates for most photo uploads per outlet\n",
    "8. After North Indian, Chinese is the 3rd most prefered cuisine in India\n",
    "9. International cuisines are better rated than local cuisines\n",
    "10. Gastro pub, Romantic Dining and Craft Beer features are well rated by customers\n",
    "11. Most restaurants are rated between 3 and 4\n",
    "12. Majority of restaurants are budget friendly with average cost of two between Rs.250 to Rs.800\n",
    "13. There are less number of restaurants at higher price ranges\n",
    "14. As the average cost of two increases, the chance of a restaurant having higher rating increases"
   ]
  },
  {
   "cell_type": "code",
   "execution_count": null,
   "metadata": {
    "execution": {
     "iopub.execute_input": "2023-01-17T09:33:20.57859Z",
     "iopub.status.busy": "2023-01-17T09:33:20.578158Z",
     "iopub.status.idle": "2023-01-17T09:33:21.961008Z",
     "shell.execute_reply": "2023-01-17T09:33:21.959861Z",
     "shell.execute_reply.started": "2023-01-17T09:33:20.578557Z"
    },
    "papermill": {
     "duration": null,
     "end_time": null,
     "exception": null,
     "start_time": null,
     "status": "pending"
    },
    "tags": []
   },
   "outputs": [],
   "source": [
    "data.to_csv(\"zomato_final.csv\")"
   ]
  },
  {
   "cell_type": "code",
   "execution_count": null,
   "metadata": {},
   "outputs": [],
   "source": []
  }
 ],
 "metadata": {
  "kaggle": {
   "accelerator": "none",
   "dataSources": [
    {
     "datasetId": 288523,
     "sourceId": 593194,
     "sourceType": "datasetVersion"
    }
   ],
   "dockerImageVersionId": 30357,
   "isGpuEnabled": false,
   "isInternetEnabled": false,
   "language": "python",
   "sourceType": "notebook"
  },
  "kernelspec": {
   "display_name": "Python 3 (ipykernel)",
   "language": "python",
   "name": "python3"
  },
  "language_info": {
   "codemirror_mode": {
    "name": "ipython",
    "version": 3
   },
   "file_extension": ".py",
   "mimetype": "text/x-python",
   "name": "python",
   "nbconvert_exporter": "python",
   "pygments_lexer": "ipython3",
   "version": "3.11.5"
  }
 },
 "nbformat": 4,
 "nbformat_minor": 4
}
